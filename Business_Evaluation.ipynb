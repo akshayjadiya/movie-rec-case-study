{
 "cells": [
  {
   "cell_type": "code",
   "execution_count": 1,
   "metadata": {},
   "outputs": [],
   "source": [
    "import pandas as pd\n",
    "from surprise import Reader\n",
    "from surprise import Dataset\n",
    "from surprise.model_selection import cross_validate\n",
    "from surprise import NormalPredictor\n",
    "from surprise import SVD\n",
    "from surprise import SVDpp\n",
    "from surprise.accuracy import rmse\n",
    "from surprise import accuracy\n",
    "from surprise.model_selection import train_test_split\n",
    "from surprise.model_selection import GridSearchCV"
   ]
  },
  {
   "cell_type": "code",
   "execution_count": 2,
   "metadata": {},
   "outputs": [],
   "source": [
    "import os\n",
    "path = os.getcwd()\n",
    "\n",
    "ratings_df = pd.read_csv(os.path.join(path,'ratings.csv'))\n",
    "\n",
    "movies_df = pd.read_csv(os.path.join(path,'movies.csv'))\n",
    "\n",
    "tmdb_df = pd.read_csv(os.path.join(path,'tmdb_data_combine.csv'))\n",
    "\n",
    "links_df = pd.read_csv(os.path.join(path,'links.csv'))"
   ]
  },
  {
   "cell_type": "code",
   "execution_count": 3,
   "metadata": {},
   "outputs": [],
   "source": [
    "# Creating a master db\n",
    "links_df = links_df.dropna(axis=0)\n",
    "links_df['tmdbId'] = links_df['tmdbId'].astype('int')\n",
    "master_df = ratings_df.merge(links_df , how='left' , on='movieId')\n",
    "master_df = master_df.dropna(axis=0)\n",
    "master_df['imdbId'] = master_df['imdbId'].astype('int')\n",
    "master_df['tmdbId'] = master_df['tmdbId'].astype('int')\n",
    "master_df = master_df.merge(tmdb_df, how='left' , left_on='tmdbId' , right_on='id')\n",
    "master_df = master_df.dropna(axis=0)\n",
    "master_df = master_df.merge(movies_df[['movieId','title','genres']].copy() , how='left' , on='movieId')"
   ]
  },
  {
   "cell_type": "code",
   "execution_count": 4,
   "metadata": {},
   "outputs": [],
   "source": [
    "df = master_df[['userId','movieId','rating']].copy()"
   ]
  },
  {
   "cell_type": "code",
   "execution_count": 5,
   "metadata": {},
   "outputs": [],
   "source": [
    "df.columns = ['userID', 'item', 'rating']"
   ]
  },
  {
   "cell_type": "code",
   "execution_count": 6,
   "metadata": {},
   "outputs": [
    {
     "name": "stdout",
     "output_type": "stream",
     "text": [
      "The original data frame shape:\t(96014, 3)\n",
      "The new data frame shape:\t(86007, 3)\n"
     ]
    }
   ],
   "source": [
    "min_ratings = 5\n",
    "filter_items = df['item'].value_counts() > min_ratings\n",
    "filter_items = filter_items[filter_items].index.tolist()\n",
    "\n",
    "# min_user_ratings = 5\n",
    "# filter_users = df['userID'].value_counts() > min_user_ratings\n",
    "# filter_users = filter_users[filter_users].index.tolist()\n",
    "\n",
    "# df_new = df[(df['item'].isin(filter_items)) & (df['userID'].isin(filter_users))]\n",
    "df_new = df[(df['item'].isin(filter_items))]\n",
    "print('The original data frame shape:\\t{}'.format(df.shape))\n",
    "print('The new data frame shape:\\t{}'.format(df_new.shape))"
   ]
  },
  {
   "cell_type": "markdown",
   "metadata": {},
   "source": [
    "## Divide data into test and train and train the model"
   ]
  },
  {
   "cell_type": "code",
   "execution_count": 7,
   "metadata": {},
   "outputs": [],
   "source": [
    "train_data=df_new.iloc[:int(df_new.shape[0]*0.80)]\n",
    "test_data=df_new.iloc[int(df_new.shape[0]*0.80):]\n",
    "\n",
    "reader = Reader(rating_scale=(0.5, 5.0))\n",
    "data = Dataset.load_from_df(train_data[['userID', 'item', 'rating']], reader)"
   ]
  },
  {
   "cell_type": "code",
   "execution_count": 8,
   "metadata": {},
   "outputs": [
    {
     "data": {
      "text/plain": [
       "<surprise.prediction_algorithms.matrix_factorization.SVDpp at 0x120192980>"
      ]
     },
     "execution_count": 8,
     "metadata": {},
     "output_type": "execute_result"
    }
   ],
   "source": [
    "algo = SVDpp(n_epochs = 20, lr_all = 0.005 , reg_all = 0.02)\n",
    "\n",
    "algo.fit(data.build_full_trainset())"
   ]
  },
  {
   "cell_type": "markdown",
   "metadata": {},
   "source": [
    "## Make predictions"
   ]
  },
  {
   "cell_type": "code",
   "execution_count": 9,
   "metadata": {},
   "outputs": [],
   "source": [
    "test_set_business = []\n",
    "for index , data in test_data.iterrows():\n",
    "    test_set_business.append(list(data.values))"
   ]
  },
  {
   "cell_type": "code",
   "execution_count": 10,
   "metadata": {},
   "outputs": [],
   "source": [
    "predictions = algo.test(test_set_business)"
   ]
  },
  {
   "cell_type": "code",
   "execution_count": 11,
   "metadata": {},
   "outputs": [],
   "source": [
    "pred_test_data = [pred.est for pred in predictions]"
   ]
  },
  {
   "cell_type": "code",
   "execution_count": 12,
   "metadata": {},
   "outputs": [
    {
     "name": "stderr",
     "output_type": "stream",
     "text": [
      "/var/folders/n0/fnbk7s7173bdmlw8xwk9t11r0000gn/T/ipykernel_34933/1435882947.py:1: SettingWithCopyWarning: \n",
      "A value is trying to be set on a copy of a slice from a DataFrame.\n",
      "Try using .loc[row_indexer,col_indexer] = value instead\n",
      "\n",
      "See the caveats in the documentation: https://pandas.pydata.org/pandas-docs/stable/user_guide/indexing.html#returning-a-view-versus-a-copy\n",
      "  test_data['predictions'] = pred_test_data\n"
     ]
    }
   ],
   "source": [
    "test_data['predictions'] = pred_test_data"
   ]
  },
  {
   "cell_type": "code",
   "execution_count": 13,
   "metadata": {},
   "outputs": [
    {
     "data": {
      "text/html": [
       "<div>\n",
       "<style scoped>\n",
       "    .dataframe tbody tr th:only-of-type {\n",
       "        vertical-align: middle;\n",
       "    }\n",
       "\n",
       "    .dataframe tbody tr th {\n",
       "        vertical-align: top;\n",
       "    }\n",
       "\n",
       "    .dataframe thead th {\n",
       "        text-align: right;\n",
       "    }\n",
       "</style>\n",
       "<table border=\"1\" class=\"dataframe\">\n",
       "  <thead>\n",
       "    <tr style=\"text-align: right;\">\n",
       "      <th></th>\n",
       "      <th>userID</th>\n",
       "      <th>item</th>\n",
       "      <th>rating</th>\n",
       "      <th>predictions</th>\n",
       "    </tr>\n",
       "  </thead>\n",
       "  <tbody>\n",
       "    <tr>\n",
       "      <th>76227</th>\n",
       "      <td>500</td>\n",
       "      <td>539</td>\n",
       "      <td>1.0</td>\n",
       "      <td>3.136812</td>\n",
       "    </tr>\n",
       "    <tr>\n",
       "      <th>76228</th>\n",
       "      <td>500</td>\n",
       "      <td>543</td>\n",
       "      <td>4.0</td>\n",
       "      <td>2.920574</td>\n",
       "    </tr>\n",
       "    <tr>\n",
       "      <th>76229</th>\n",
       "      <td>500</td>\n",
       "      <td>588</td>\n",
       "      <td>4.0</td>\n",
       "      <td>3.255299</td>\n",
       "    </tr>\n",
       "    <tr>\n",
       "      <th>76230</th>\n",
       "      <td>500</td>\n",
       "      <td>594</td>\n",
       "      <td>3.0</td>\n",
       "      <td>3.244347</td>\n",
       "    </tr>\n",
       "    <tr>\n",
       "      <th>76231</th>\n",
       "      <td>500</td>\n",
       "      <td>595</td>\n",
       "      <td>4.0</td>\n",
       "      <td>3.224182</td>\n",
       "    </tr>\n",
       "  </tbody>\n",
       "</table>\n",
       "</div>"
      ],
      "text/plain": [
       "       userID  item  rating  predictions\n",
       "76227     500   539     1.0     3.136812\n",
       "76228     500   543     4.0     2.920574\n",
       "76229     500   588     4.0     3.255299\n",
       "76230     500   594     3.0     3.244347\n",
       "76231     500   595     4.0     3.224182"
      ]
     },
     "execution_count": 13,
     "metadata": {},
     "output_type": "execute_result"
    }
   ],
   "source": [
    "test_data.head()"
   ]
  },
  {
   "cell_type": "markdown",
   "metadata": {},
   "source": [
    "## Calculate business evaluation metircs"
   ]
  },
  {
   "cell_type": "code",
   "execution_count": 14,
   "metadata": {},
   "outputs": [],
   "source": [
    "df_2 = test_data.dropna().groupby('userID').apply(lambda grp: grp.nlargest(5, 'predictions'))"
   ]
  },
  {
   "cell_type": "code",
   "execution_count": 15,
   "metadata": {},
   "outputs": [
    {
     "data": {
      "text/html": [
       "<div>\n",
       "<style scoped>\n",
       "    .dataframe tbody tr th:only-of-type {\n",
       "        vertical-align: middle;\n",
       "    }\n",
       "\n",
       "    .dataframe tbody tr th {\n",
       "        vertical-align: top;\n",
       "    }\n",
       "\n",
       "    .dataframe thead th {\n",
       "        text-align: right;\n",
       "    }\n",
       "</style>\n",
       "<table border=\"1\" class=\"dataframe\">\n",
       "  <thead>\n",
       "    <tr style=\"text-align: right;\">\n",
       "      <th></th>\n",
       "      <th></th>\n",
       "      <th>userID</th>\n",
       "      <th>item</th>\n",
       "      <th>rating</th>\n",
       "      <th>predictions</th>\n",
       "    </tr>\n",
       "    <tr>\n",
       "      <th>userID</th>\n",
       "      <th></th>\n",
       "      <th></th>\n",
       "      <th></th>\n",
       "      <th></th>\n",
       "      <th></th>\n",
       "    </tr>\n",
       "  </thead>\n",
       "  <tbody>\n",
       "    <tr>\n",
       "      <th rowspan=\"5\" valign=\"top\">500</th>\n",
       "      <th>76234</th>\n",
       "      <td>500</td>\n",
       "      <td>720</td>\n",
       "      <td>4.0</td>\n",
       "      <td>3.541515</td>\n",
       "    </tr>\n",
       "    <tr>\n",
       "      <th>76278</th>\n",
       "      <td>500</td>\n",
       "      <td>3083</td>\n",
       "      <td>1.0</td>\n",
       "      <td>3.524067</td>\n",
       "    </tr>\n",
       "    <tr>\n",
       "      <th>76277</th>\n",
       "      <td>500</td>\n",
       "      <td>3060</td>\n",
       "      <td>3.0</td>\n",
       "      <td>3.501320</td>\n",
       "    </tr>\n",
       "    <tr>\n",
       "      <th>76273</th>\n",
       "      <td>500</td>\n",
       "      <td>2858</td>\n",
       "      <td>5.0</td>\n",
       "      <td>3.495838</td>\n",
       "    </tr>\n",
       "    <tr>\n",
       "      <th>76240</th>\n",
       "      <td>500</td>\n",
       "      <td>1265</td>\n",
       "      <td>3.0</td>\n",
       "      <td>3.463457</td>\n",
       "    </tr>\n",
       "    <tr>\n",
       "      <th>...</th>\n",
       "      <th>...</th>\n",
       "      <td>...</td>\n",
       "      <td>...</td>\n",
       "      <td>...</td>\n",
       "      <td>...</td>\n",
       "    </tr>\n",
       "    <tr>\n",
       "      <th rowspan=\"5\" valign=\"top\">610</th>\n",
       "      <th>94816</th>\n",
       "      <td>610</td>\n",
       "      <td>318</td>\n",
       "      <td>3.0</td>\n",
       "      <td>4.325094</td>\n",
       "    </tr>\n",
       "    <tr>\n",
       "      <th>94842</th>\n",
       "      <td>610</td>\n",
       "      <td>750</td>\n",
       "      <td>4.5</td>\n",
       "      <td>4.213530</td>\n",
       "    </tr>\n",
       "    <tr>\n",
       "      <th>94821</th>\n",
       "      <td>610</td>\n",
       "      <td>356</td>\n",
       "      <td>3.0</td>\n",
       "      <td>4.201162</td>\n",
       "    </tr>\n",
       "    <tr>\n",
       "      <th>95973</th>\n",
       "      <td>610</td>\n",
       "      <td>142488</td>\n",
       "      <td>3.5</td>\n",
       "      <td>4.200773</td>\n",
       "    </tr>\n",
       "    <tr>\n",
       "      <th>95852</th>\n",
       "      <td>610</td>\n",
       "      <td>106100</td>\n",
       "      <td>4.0</td>\n",
       "      <td>4.194502</td>\n",
       "    </tr>\n",
       "  </tbody>\n",
       "</table>\n",
       "<p>555 rows × 4 columns</p>\n",
       "</div>"
      ],
      "text/plain": [
       "              userID    item  rating  predictions\n",
       "userID                                           \n",
       "500    76234     500     720     4.0     3.541515\n",
       "       76278     500    3083     1.0     3.524067\n",
       "       76277     500    3060     3.0     3.501320\n",
       "       76273     500    2858     5.0     3.495838\n",
       "       76240     500    1265     3.0     3.463457\n",
       "...              ...     ...     ...          ...\n",
       "610    94816     610     318     3.0     4.325094\n",
       "       94842     610     750     4.5     4.213530\n",
       "       94821     610     356     3.0     4.201162\n",
       "       95973     610  142488     3.5     4.200773\n",
       "       95852     610  106100     4.0     4.194502\n",
       "\n",
       "[555 rows x 4 columns]"
      ]
     },
     "execution_count": 15,
     "metadata": {},
     "output_type": "execute_result"
    }
   ],
   "source": [
    "df_2"
   ]
  },
  {
   "cell_type": "code",
   "execution_count": 16,
   "metadata": {},
   "outputs": [],
   "source": [
    "df_2['revenue'] = df_2['rating'].apply(lambda x : 12 if x >= 4.5 else 8.5 if x<4.5 and x >= 4 else 2.5 if x<4 and x >= 3.5 else 0)"
   ]
  },
  {
   "cell_type": "code",
   "execution_count": 17,
   "metadata": {},
   "outputs": [
    {
     "data": {
      "text/plain": [
       "4548.5"
      ]
     },
     "execution_count": 17,
     "metadata": {},
     "output_type": "execute_result"
    }
   ],
   "source": [
    "sum(df_2.revenue)"
   ]
  },
  {
   "cell_type": "code",
   "execution_count": 18,
   "metadata": {},
   "outputs": [],
   "source": [
    "random_revenue = sum(train_data['rating']\\\n",
    "                     .apply(lambda x : 12 if x >= 4.5 else 8.5 if x<4.5 and x >= 4 else 2.5 if x<4 and x >= 3.5 else 0))/len(train_data)\n",
    "\n",
    "total_revenue_random = random_revenue*555"
   ]
  },
  {
   "cell_type": "code",
   "execution_count": 19,
   "metadata": {},
   "outputs": [
    {
     "data": {
      "text/plain": [
       "2993.983213429257"
      ]
     },
     "execution_count": 19,
     "metadata": {},
     "output_type": "execute_result"
    }
   ],
   "source": [
    "total_revenue_random"
   ]
  },
  {
   "cell_type": "code",
   "execution_count": 20,
   "metadata": {},
   "outputs": [
    {
     "data": {
      "text/plain": [
       "5.394564348521183"
      ]
     },
     "execution_count": 20,
     "metadata": {},
     "output_type": "execute_result"
    }
   ],
   "source": [
    "random_revenue"
   ]
  },
  {
   "cell_type": "code",
   "execution_count": 21,
   "metadata": {},
   "outputs": [
    {
     "data": {
      "text/plain": [
       "(4.124324324324324, 3.5534990189666447)"
      ]
     },
     "execution_count": 21,
     "metadata": {},
     "output_type": "execute_result"
    }
   ],
   "source": [
    "df_2['rating'].mean(),train_data['rating'].mean()"
   ]
  },
  {
   "cell_type": "code",
   "execution_count": 22,
   "metadata": {},
   "outputs": [
    {
     "data": {
      "text/plain": [
       "0.51"
      ]
     },
     "execution_count": 22,
     "metadata": {},
     "output_type": "execute_result"
    }
   ],
   "source": [
    "# % change in revenue \n",
    "(4530 - 3000)/3000 "
   ]
  },
  {
   "cell_type": "code",
   "execution_count": 23,
   "metadata": {},
   "outputs": [
    {
     "data": {
      "text/plain": [
       "4126.7"
      ]
     },
     "execution_count": 23,
     "metadata": {},
     "output_type": "execute_result"
    }
   ],
   "source": [
    "# Profit calculation (rec sys)\n",
    "sum(df_2.revenue) - 0.75*555 - 0.01*555"
   ]
  },
  {
   "cell_type": "code",
   "execution_count": 24,
   "metadata": {},
   "outputs": [
    {
     "data": {
      "text/plain": [
       "2577.733213429257"
      ]
     },
     "execution_count": 24,
     "metadata": {},
     "output_type": "execute_result"
    }
   ],
   "source": [
    "# Profit calculation (no rec sys)\n",
    "total_revenue_random - 0.75*555"
   ]
  },
  {
   "cell_type": "code",
   "execution_count": null,
   "metadata": {},
   "outputs": [],
   "source": []
  }
 ],
 "metadata": {
  "kernelspec": {
   "display_name": "adobe_case_study",
   "language": "python",
   "name": "python3"
  },
  "language_info": {
   "codemirror_mode": {
    "name": "ipython",
    "version": 3
   },
   "file_extension": ".py",
   "mimetype": "text/x-python",
   "name": "python",
   "nbconvert_exporter": "python",
   "pygments_lexer": "ipython3",
   "version": "3.10.13"
  }
 },
 "nbformat": 4,
 "nbformat_minor": 2
}
