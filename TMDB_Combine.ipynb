{
 "cells": [
  {
   "cell_type": "code",
   "execution_count": 3,
   "metadata": {},
   "outputs": [],
   "source": [
    "import os, json\n",
    "import pandas as pd\n",
    "\n",
    "path = '/Users/akshay/Documents/interviews/adobe_case_study/'\n",
    "path_to_json = os.path.join(path,'data','tmdb')\n",
    "\n",
    "json_files = [pos_json for pos_json in os.listdir(path_to_json) if pos_json.endswith('.json')]\n",
    "json_dfs = []\n",
    "for file in json_files:\n",
    "    df = pd.read_json(os.path.join(path,'data','tmdb',file) , lines=True)\n",
    "    json_dfs.append(df)"
   ]
  },
  {
   "cell_type": "code",
   "execution_count": 7,
   "metadata": {},
   "outputs": [],
   "source": [
    "tmdb_df = pd.concat(json_dfs)"
   ]
  },
  {
   "cell_type": "code",
   "execution_count": 8,
   "metadata": {},
   "outputs": [
    {
     "data": {
      "text/html": [
       "<div>\n",
       "<style scoped>\n",
       "    .dataframe tbody tr th:only-of-type {\n",
       "        vertical-align: middle;\n",
       "    }\n",
       "\n",
       "    .dataframe tbody tr th {\n",
       "        vertical-align: top;\n",
       "    }\n",
       "\n",
       "    .dataframe thead th {\n",
       "        text-align: right;\n",
       "    }\n",
       "</style>\n",
       "<table border=\"1\" class=\"dataframe\">\n",
       "  <thead>\n",
       "    <tr style=\"text-align: right;\">\n",
       "      <th></th>\n",
       "      <th>overview</th>\n",
       "      <th>popularity</th>\n",
       "      <th>original_title</th>\n",
       "      <th>runtime</th>\n",
       "      <th>release_date</th>\n",
       "      <th>vote_average</th>\n",
       "      <th>vote_count</th>\n",
       "      <th>status</th>\n",
       "      <th>tagline</th>\n",
       "      <th>spoken_languages</th>\n",
       "      <th>cast</th>\n",
       "      <th>id</th>\n",
       "    </tr>\n",
       "  </thead>\n",
       "  <tbody>\n",
       "    <tr>\n",
       "      <th>0</th>\n",
       "      <td>The second \"visual album\" (a collection of sho...</td>\n",
       "      <td>8.738</td>\n",
       "      <td>Lemonade</td>\n",
       "      <td>65</td>\n",
       "      <td>2016-04-23</td>\n",
       "      <td>8.497</td>\n",
       "      <td>147</td>\n",
       "      <td>Released</td>\n",
       "      <td></td>\n",
       "      <td>en</td>\n",
       "      <td>Beyoncé|Jay-Z|Serena Williams|Zendaya|Quvenzha...</td>\n",
       "      <td>394269</td>\n",
       "    </tr>\n",
       "    <tr>\n",
       "      <th>0</th>\n",
       "      <td>Set in 1929, a political boss and his advisor ...</td>\n",
       "      <td>17.518</td>\n",
       "      <td>Miller's Crossing</td>\n",
       "      <td>115</td>\n",
       "      <td>1990-09-21</td>\n",
       "      <td>7.455</td>\n",
       "      <td>1496</td>\n",
       "      <td>Released</td>\n",
       "      <td>Up is down, black is white, and nothing is wha...</td>\n",
       "      <td>en|ga|it|yi</td>\n",
       "      <td>Gabriel Byrne|Albert Finney|Jon Polito|Marcia ...</td>\n",
       "      <td>379</td>\n",
       "    </tr>\n",
       "    <tr>\n",
       "      <th>0</th>\n",
       "      <td>A student's premonition of a deadly rollercoas...</td>\n",
       "      <td>40.900</td>\n",
       "      <td>Final Destination 3</td>\n",
       "      <td>93</td>\n",
       "      <td>2006-02-09</td>\n",
       "      <td>6.081</td>\n",
       "      <td>3549</td>\n",
       "      <td>Released</td>\n",
       "      <td>This ride will be the death of you.</td>\n",
       "      <td>en</td>\n",
       "      <td>Mary Elizabeth Winstead|Ryan Merriman|Kris Lem...</td>\n",
       "      <td>9286</td>\n",
       "    </tr>\n",
       "    <tr>\n",
       "      <th>0</th>\n",
       "      <td>On Christmas Eve, three homeless people living...</td>\n",
       "      <td>21.095</td>\n",
       "      <td>東京ゴッドファーザーズ</td>\n",
       "      <td>93</td>\n",
       "      <td>2003-12-29</td>\n",
       "      <td>7.895</td>\n",
       "      <td>1076</td>\n",
       "      <td>Released</td>\n",
       "      <td>Meet the ultimate dysfunctional family.</td>\n",
       "      <td>en|ja|es</td>\n",
       "      <td>Aya Okamoto|Yoshiaki Umegaki|Tohru Emori|Satom...</td>\n",
       "      <td>13398</td>\n",
       "    </tr>\n",
       "    <tr>\n",
       "      <th>0</th>\n",
       "      <td>A wily old codger matches wits with the King o...</td>\n",
       "      <td>12.456</td>\n",
       "      <td>Darby O'Gill and the Little People</td>\n",
       "      <td>93</td>\n",
       "      <td>1959-06-24</td>\n",
       "      <td>6.700</td>\n",
       "      <td>130</td>\n",
       "      <td>Released</td>\n",
       "      <td>A touch O'Blarney... a heap O'Magic and A LOAD...</td>\n",
       "      <td>ga|en</td>\n",
       "      <td>Albert Sharpe|Janet Munro|Sean Connery|Jimmy O...</td>\n",
       "      <td>18887</td>\n",
       "    </tr>\n",
       "  </tbody>\n",
       "</table>\n",
       "</div>"
      ],
      "text/plain": [
       "                                            overview  popularity  \\\n",
       "0  The second \"visual album\" (a collection of sho...       8.738   \n",
       "0  Set in 1929, a political boss and his advisor ...      17.518   \n",
       "0  A student's premonition of a deadly rollercoas...      40.900   \n",
       "0  On Christmas Eve, three homeless people living...      21.095   \n",
       "0  A wily old codger matches wits with the King o...      12.456   \n",
       "\n",
       "                       original_title  runtime release_date  vote_average  \\\n",
       "0                            Lemonade       65   2016-04-23         8.497   \n",
       "0                   Miller's Crossing      115   1990-09-21         7.455   \n",
       "0                 Final Destination 3       93   2006-02-09         6.081   \n",
       "0                         東京ゴッドファーザーズ       93   2003-12-29         7.895   \n",
       "0  Darby O'Gill and the Little People       93   1959-06-24         6.700   \n",
       "\n",
       "   vote_count    status                                            tagline  \\\n",
       "0         147  Released                                                      \n",
       "0        1496  Released  Up is down, black is white, and nothing is wha...   \n",
       "0        3549  Released                This ride will be the death of you.   \n",
       "0        1076  Released            Meet the ultimate dysfunctional family.   \n",
       "0         130  Released  A touch O'Blarney... a heap O'Magic and A LOAD...   \n",
       "\n",
       "  spoken_languages                                               cast      id  \n",
       "0               en  Beyoncé|Jay-Z|Serena Williams|Zendaya|Quvenzha...  394269  \n",
       "0      en|ga|it|yi  Gabriel Byrne|Albert Finney|Jon Polito|Marcia ...     379  \n",
       "0               en  Mary Elizabeth Winstead|Ryan Merriman|Kris Lem...    9286  \n",
       "0         en|ja|es  Aya Okamoto|Yoshiaki Umegaki|Tohru Emori|Satom...   13398  \n",
       "0            ga|en  Albert Sharpe|Janet Munro|Sean Connery|Jimmy O...   18887  "
      ]
     },
     "execution_count": 8,
     "metadata": {},
     "output_type": "execute_result"
    }
   ],
   "source": [
    "tmdb_df.head()"
   ]
  },
  {
   "cell_type": "code",
   "execution_count": 10,
   "metadata": {},
   "outputs": [
    {
     "data": {
      "text/plain": [
       "overview            0\n",
       "popularity          0\n",
       "original_title      0\n",
       "runtime             0\n",
       "release_date        0\n",
       "vote_average        0\n",
       "vote_count          0\n",
       "status              0\n",
       "tagline             0\n",
       "spoken_languages    0\n",
       "cast                0\n",
       "id                  0\n",
       "dtype: int64"
      ]
     },
     "execution_count": 10,
     "metadata": {},
     "output_type": "execute_result"
    }
   ],
   "source": [
    "tmdb_df.isna().sum()"
   ]
  },
  {
   "cell_type": "code",
   "execution_count": 11,
   "metadata": {},
   "outputs": [],
   "source": [
    "tmdb_df.to_csv(os.path.join(path,'data','tmdb_data_combine.csv') , index=False)"
   ]
  },
  {
   "cell_type": "code",
   "execution_count": null,
   "metadata": {},
   "outputs": [],
   "source": []
  }
 ],
 "metadata": {
  "kernelspec": {
   "display_name": "adobe_case_study",
   "language": "python",
   "name": "python3"
  },
  "language_info": {
   "codemirror_mode": {
    "name": "ipython",
    "version": 3
   },
   "file_extension": ".py",
   "mimetype": "text/x-python",
   "name": "python",
   "nbconvert_exporter": "python",
   "pygments_lexer": "ipython3",
   "version": "3.10.13"
  }
 },
 "nbformat": 4,
 "nbformat_minor": 2
}
