{
 "cells": [
  {
   "cell_type": "code",
   "execution_count": 1,
   "metadata": {},
   "outputs": [],
   "source": [
    "import pandas as pd\n",
    "import numpy as np\n",
    "\n",
    "# Make numpy values easier to read.\n",
    "np.set_printoptions(precision=3, suppress=True)\n",
    "\n",
    "import tensorflow as tf\n",
    "from tensorflow.keras import layers"
   ]
  },
  {
   "cell_type": "markdown",
   "metadata": {},
   "source": [
    "## Create master DB for later use"
   ]
  },
  {
   "cell_type": "code",
   "execution_count": 2,
   "metadata": {},
   "outputs": [],
   "source": [
    "import os\n",
    "path = os.getcwd()\n",
    "\n",
    "ratings_df = pd.read_csv(os.path.join(path,'ratings.csv'))\n",
    "\n",
    "movies_df = pd.read_csv(os.path.join(path,'movies.csv'))\n",
    "\n",
    "tmdb_df = pd.read_csv(os.path.join(path,'tmdb_data_combine.csv'))\n",
    "\n",
    "links_df = pd.read_csv(os.path.join(path,'links.csv'))"
   ]
  },
  {
   "cell_type": "code",
   "execution_count": 3,
   "metadata": {},
   "outputs": [
    {
     "data": {
      "text/html": [
       "<div>\n",
       "<style scoped>\n",
       "    .dataframe tbody tr th:only-of-type {\n",
       "        vertical-align: middle;\n",
       "    }\n",
       "\n",
       "    .dataframe tbody tr th {\n",
       "        vertical-align: top;\n",
       "    }\n",
       "\n",
       "    .dataframe thead th {\n",
       "        text-align: right;\n",
       "    }\n",
       "</style>\n",
       "<table border=\"1\" class=\"dataframe\">\n",
       "  <thead>\n",
       "    <tr style=\"text-align: right;\">\n",
       "      <th></th>\n",
       "      <th>movieId</th>\n",
       "      <th>imdbId</th>\n",
       "      <th>tmdbId</th>\n",
       "    </tr>\n",
       "  </thead>\n",
       "  <tbody>\n",
       "    <tr>\n",
       "      <th>0</th>\n",
       "      <td>1</td>\n",
       "      <td>114709</td>\n",
       "      <td>862.0</td>\n",
       "    </tr>\n",
       "    <tr>\n",
       "      <th>1</th>\n",
       "      <td>2</td>\n",
       "      <td>113497</td>\n",
       "      <td>8844.0</td>\n",
       "    </tr>\n",
       "    <tr>\n",
       "      <th>2</th>\n",
       "      <td>3</td>\n",
       "      <td>113228</td>\n",
       "      <td>15602.0</td>\n",
       "    </tr>\n",
       "    <tr>\n",
       "      <th>3</th>\n",
       "      <td>4</td>\n",
       "      <td>114885</td>\n",
       "      <td>31357.0</td>\n",
       "    </tr>\n",
       "    <tr>\n",
       "      <th>4</th>\n",
       "      <td>5</td>\n",
       "      <td>113041</td>\n",
       "      <td>11862.0</td>\n",
       "    </tr>\n",
       "  </tbody>\n",
       "</table>\n",
       "</div>"
      ],
      "text/plain": [
       "   movieId  imdbId   tmdbId\n",
       "0        1  114709    862.0\n",
       "1        2  113497   8844.0\n",
       "2        3  113228  15602.0\n",
       "3        4  114885  31357.0\n",
       "4        5  113041  11862.0"
      ]
     },
     "execution_count": 3,
     "metadata": {},
     "output_type": "execute_result"
    }
   ],
   "source": [
    "links_df.head()"
   ]
  },
  {
   "cell_type": "code",
   "execution_count": 4,
   "metadata": {},
   "outputs": [],
   "source": [
    "links_df = links_df.dropna(axis=0)"
   ]
  },
  {
   "cell_type": "code",
   "execution_count": 5,
   "metadata": {},
   "outputs": [],
   "source": [
    "links_df['tmdbId'] = links_df['tmdbId'].astype('int')"
   ]
  },
  {
   "cell_type": "code",
   "execution_count": 6,
   "metadata": {},
   "outputs": [
    {
     "data": {
      "text/html": [
       "<div>\n",
       "<style scoped>\n",
       "    .dataframe tbody tr th:only-of-type {\n",
       "        vertical-align: middle;\n",
       "    }\n",
       "\n",
       "    .dataframe tbody tr th {\n",
       "        vertical-align: top;\n",
       "    }\n",
       "\n",
       "    .dataframe thead th {\n",
       "        text-align: right;\n",
       "    }\n",
       "</style>\n",
       "<table border=\"1\" class=\"dataframe\">\n",
       "  <thead>\n",
       "    <tr style=\"text-align: right;\">\n",
       "      <th></th>\n",
       "      <th>userId</th>\n",
       "      <th>movieId</th>\n",
       "      <th>rating</th>\n",
       "      <th>timestamp</th>\n",
       "    </tr>\n",
       "  </thead>\n",
       "  <tbody>\n",
       "    <tr>\n",
       "      <th>0</th>\n",
       "      <td>1</td>\n",
       "      <td>1</td>\n",
       "      <td>4.0</td>\n",
       "      <td>964982703</td>\n",
       "    </tr>\n",
       "    <tr>\n",
       "      <th>1</th>\n",
       "      <td>1</td>\n",
       "      <td>3</td>\n",
       "      <td>4.0</td>\n",
       "      <td>964981247</td>\n",
       "    </tr>\n",
       "    <tr>\n",
       "      <th>2</th>\n",
       "      <td>1</td>\n",
       "      <td>6</td>\n",
       "      <td>4.0</td>\n",
       "      <td>964982224</td>\n",
       "    </tr>\n",
       "    <tr>\n",
       "      <th>3</th>\n",
       "      <td>1</td>\n",
       "      <td>47</td>\n",
       "      <td>5.0</td>\n",
       "      <td>964983815</td>\n",
       "    </tr>\n",
       "    <tr>\n",
       "      <th>4</th>\n",
       "      <td>1</td>\n",
       "      <td>50</td>\n",
       "      <td>5.0</td>\n",
       "      <td>964982931</td>\n",
       "    </tr>\n",
       "  </tbody>\n",
       "</table>\n",
       "</div>"
      ],
      "text/plain": [
       "   userId  movieId  rating  timestamp\n",
       "0       1        1     4.0  964982703\n",
       "1       1        3     4.0  964981247\n",
       "2       1        6     4.0  964982224\n",
       "3       1       47     5.0  964983815\n",
       "4       1       50     5.0  964982931"
      ]
     },
     "execution_count": 6,
     "metadata": {},
     "output_type": "execute_result"
    }
   ],
   "source": [
    "ratings_df.head()"
   ]
  },
  {
   "cell_type": "code",
   "execution_count": 7,
   "metadata": {},
   "outputs": [
    {
     "data": {
      "text/html": [
       "<div>\n",
       "<style scoped>\n",
       "    .dataframe tbody tr th:only-of-type {\n",
       "        vertical-align: middle;\n",
       "    }\n",
       "\n",
       "    .dataframe tbody tr th {\n",
       "        vertical-align: top;\n",
       "    }\n",
       "\n",
       "    .dataframe thead th {\n",
       "        text-align: right;\n",
       "    }\n",
       "</style>\n",
       "<table border=\"1\" class=\"dataframe\">\n",
       "  <thead>\n",
       "    <tr style=\"text-align: right;\">\n",
       "      <th></th>\n",
       "      <th>movieId</th>\n",
       "      <th>title</th>\n",
       "      <th>genres</th>\n",
       "    </tr>\n",
       "  </thead>\n",
       "  <tbody>\n",
       "    <tr>\n",
       "      <th>0</th>\n",
       "      <td>1</td>\n",
       "      <td>Toy Story (1995)</td>\n",
       "      <td>Adventure|Animation|Children|Comedy|Fantasy</td>\n",
       "    </tr>\n",
       "    <tr>\n",
       "      <th>1</th>\n",
       "      <td>2</td>\n",
       "      <td>Jumanji (1995)</td>\n",
       "      <td>Adventure|Children|Fantasy</td>\n",
       "    </tr>\n",
       "    <tr>\n",
       "      <th>2</th>\n",
       "      <td>3</td>\n",
       "      <td>Grumpier Old Men (1995)</td>\n",
       "      <td>Comedy|Romance</td>\n",
       "    </tr>\n",
       "    <tr>\n",
       "      <th>3</th>\n",
       "      <td>4</td>\n",
       "      <td>Waiting to Exhale (1995)</td>\n",
       "      <td>Comedy|Drama|Romance</td>\n",
       "    </tr>\n",
       "    <tr>\n",
       "      <th>4</th>\n",
       "      <td>5</td>\n",
       "      <td>Father of the Bride Part II (1995)</td>\n",
       "      <td>Comedy</td>\n",
       "    </tr>\n",
       "  </tbody>\n",
       "</table>\n",
       "</div>"
      ],
      "text/plain": [
       "   movieId                               title  \\\n",
       "0        1                    Toy Story (1995)   \n",
       "1        2                      Jumanji (1995)   \n",
       "2        3             Grumpier Old Men (1995)   \n",
       "3        4            Waiting to Exhale (1995)   \n",
       "4        5  Father of the Bride Part II (1995)   \n",
       "\n",
       "                                        genres  \n",
       "0  Adventure|Animation|Children|Comedy|Fantasy  \n",
       "1                   Adventure|Children|Fantasy  \n",
       "2                               Comedy|Romance  \n",
       "3                         Comedy|Drama|Romance  \n",
       "4                                       Comedy  "
      ]
     },
     "execution_count": 7,
     "metadata": {},
     "output_type": "execute_result"
    }
   ],
   "source": [
    "movies_df.head()"
   ]
  },
  {
   "cell_type": "code",
   "execution_count": 8,
   "metadata": {},
   "outputs": [],
   "source": [
    "ratings_df = ratings_df.merge(links_df , how='left' , on='movieId')"
   ]
  },
  {
   "cell_type": "code",
   "execution_count": 9,
   "metadata": {},
   "outputs": [
    {
     "data": {
      "text/plain": [
       "userId        0\n",
       "movieId       0\n",
       "rating        0\n",
       "timestamp     0\n",
       "imdbId       13\n",
       "tmdbId       13\n",
       "dtype: int64"
      ]
     },
     "execution_count": 9,
     "metadata": {},
     "output_type": "execute_result"
    }
   ],
   "source": [
    "ratings_df.isna().sum()"
   ]
  },
  {
   "cell_type": "code",
   "execution_count": 10,
   "metadata": {},
   "outputs": [
    {
     "data": {
      "text/plain": [
       "100836"
      ]
     },
     "execution_count": 10,
     "metadata": {},
     "output_type": "execute_result"
    }
   ],
   "source": [
    "len(ratings_df)"
   ]
  },
  {
   "cell_type": "code",
   "execution_count": 11,
   "metadata": {},
   "outputs": [
    {
     "data": {
      "text/plain": [
       "100823"
      ]
     },
     "execution_count": 11,
     "metadata": {},
     "output_type": "execute_result"
    }
   ],
   "source": [
    "ratings_df = ratings_df.dropna(axis=0)\n",
    "len(ratings_df)"
   ]
  },
  {
   "cell_type": "code",
   "execution_count": 12,
   "metadata": {},
   "outputs": [
    {
     "data": {
      "text/html": [
       "<div>\n",
       "<style scoped>\n",
       "    .dataframe tbody tr th:only-of-type {\n",
       "        vertical-align: middle;\n",
       "    }\n",
       "\n",
       "    .dataframe tbody tr th {\n",
       "        vertical-align: top;\n",
       "    }\n",
       "\n",
       "    .dataframe thead th {\n",
       "        text-align: right;\n",
       "    }\n",
       "</style>\n",
       "<table border=\"1\" class=\"dataframe\">\n",
       "  <thead>\n",
       "    <tr style=\"text-align: right;\">\n",
       "      <th></th>\n",
       "      <th>userId</th>\n",
       "      <th>movieId</th>\n",
       "      <th>rating</th>\n",
       "      <th>timestamp</th>\n",
       "      <th>imdbId</th>\n",
       "      <th>tmdbId</th>\n",
       "    </tr>\n",
       "  </thead>\n",
       "  <tbody>\n",
       "    <tr>\n",
       "      <th>0</th>\n",
       "      <td>1</td>\n",
       "      <td>1</td>\n",
       "      <td>4.0</td>\n",
       "      <td>964982703</td>\n",
       "      <td>114709</td>\n",
       "      <td>862</td>\n",
       "    </tr>\n",
       "    <tr>\n",
       "      <th>1</th>\n",
       "      <td>1</td>\n",
       "      <td>3</td>\n",
       "      <td>4.0</td>\n",
       "      <td>964981247</td>\n",
       "      <td>113228</td>\n",
       "      <td>15602</td>\n",
       "    </tr>\n",
       "    <tr>\n",
       "      <th>2</th>\n",
       "      <td>1</td>\n",
       "      <td>6</td>\n",
       "      <td>4.0</td>\n",
       "      <td>964982224</td>\n",
       "      <td>113277</td>\n",
       "      <td>949</td>\n",
       "    </tr>\n",
       "    <tr>\n",
       "      <th>3</th>\n",
       "      <td>1</td>\n",
       "      <td>47</td>\n",
       "      <td>5.0</td>\n",
       "      <td>964983815</td>\n",
       "      <td>114369</td>\n",
       "      <td>807</td>\n",
       "    </tr>\n",
       "    <tr>\n",
       "      <th>4</th>\n",
       "      <td>1</td>\n",
       "      <td>50</td>\n",
       "      <td>5.0</td>\n",
       "      <td>964982931</td>\n",
       "      <td>114814</td>\n",
       "      <td>629</td>\n",
       "    </tr>\n",
       "  </tbody>\n",
       "</table>\n",
       "</div>"
      ],
      "text/plain": [
       "   userId  movieId  rating  timestamp  imdbId  tmdbId\n",
       "0       1        1     4.0  964982703  114709     862\n",
       "1       1        3     4.0  964981247  113228   15602\n",
       "2       1        6     4.0  964982224  113277     949\n",
       "3       1       47     5.0  964983815  114369     807\n",
       "4       1       50     5.0  964982931  114814     629"
      ]
     },
     "execution_count": 12,
     "metadata": {},
     "output_type": "execute_result"
    }
   ],
   "source": [
    "ratings_df['imdbId'] = ratings_df['imdbId'].astype('int')\n",
    "ratings_df['tmdbId'] = ratings_df['tmdbId'].astype('int')\n",
    "ratings_df.head()"
   ]
  },
  {
   "cell_type": "code",
   "execution_count": 13,
   "metadata": {},
   "outputs": [
    {
     "data": {
      "text/html": [
       "<div>\n",
       "<style scoped>\n",
       "    .dataframe tbody tr th:only-of-type {\n",
       "        vertical-align: middle;\n",
       "    }\n",
       "\n",
       "    .dataframe tbody tr th {\n",
       "        vertical-align: top;\n",
       "    }\n",
       "\n",
       "    .dataframe thead th {\n",
       "        text-align: right;\n",
       "    }\n",
       "</style>\n",
       "<table border=\"1\" class=\"dataframe\">\n",
       "  <thead>\n",
       "    <tr style=\"text-align: right;\">\n",
       "      <th></th>\n",
       "      <th>overview</th>\n",
       "      <th>popularity</th>\n",
       "      <th>original_title</th>\n",
       "      <th>runtime</th>\n",
       "      <th>release_date</th>\n",
       "      <th>vote_average</th>\n",
       "      <th>vote_count</th>\n",
       "      <th>status</th>\n",
       "      <th>tagline</th>\n",
       "      <th>spoken_languages</th>\n",
       "      <th>cast</th>\n",
       "      <th>id</th>\n",
       "    </tr>\n",
       "  </thead>\n",
       "  <tbody>\n",
       "    <tr>\n",
       "      <th>0</th>\n",
       "      <td>The second \"visual album\" (a collection of sho...</td>\n",
       "      <td>8.738</td>\n",
       "      <td>Lemonade</td>\n",
       "      <td>65</td>\n",
       "      <td>2016-04-23</td>\n",
       "      <td>8.497</td>\n",
       "      <td>147</td>\n",
       "      <td>Released</td>\n",
       "      <td>NaN</td>\n",
       "      <td>en</td>\n",
       "      <td>Beyoncé|Jay-Z|Serena Williams|Zendaya|Quvenzha...</td>\n",
       "      <td>394269</td>\n",
       "    </tr>\n",
       "    <tr>\n",
       "      <th>1</th>\n",
       "      <td>Set in 1929, a political boss and his advisor ...</td>\n",
       "      <td>17.518</td>\n",
       "      <td>Miller's Crossing</td>\n",
       "      <td>115</td>\n",
       "      <td>1990-09-21</td>\n",
       "      <td>7.455</td>\n",
       "      <td>1496</td>\n",
       "      <td>Released</td>\n",
       "      <td>Up is down, black is white, and nothing is wha...</td>\n",
       "      <td>en|ga|it|yi</td>\n",
       "      <td>Gabriel Byrne|Albert Finney|Jon Polito|Marcia ...</td>\n",
       "      <td>379</td>\n",
       "    </tr>\n",
       "    <tr>\n",
       "      <th>2</th>\n",
       "      <td>A student's premonition of a deadly rollercoas...</td>\n",
       "      <td>40.900</td>\n",
       "      <td>Final Destination 3</td>\n",
       "      <td>93</td>\n",
       "      <td>2006-02-09</td>\n",
       "      <td>6.081</td>\n",
       "      <td>3549</td>\n",
       "      <td>Released</td>\n",
       "      <td>This ride will be the death of you.</td>\n",
       "      <td>en</td>\n",
       "      <td>Mary Elizabeth Winstead|Ryan Merriman|Kris Lem...</td>\n",
       "      <td>9286</td>\n",
       "    </tr>\n",
       "    <tr>\n",
       "      <th>3</th>\n",
       "      <td>On Christmas Eve, three homeless people living...</td>\n",
       "      <td>21.095</td>\n",
       "      <td>東京ゴッドファーザーズ</td>\n",
       "      <td>93</td>\n",
       "      <td>2003-12-29</td>\n",
       "      <td>7.895</td>\n",
       "      <td>1076</td>\n",
       "      <td>Released</td>\n",
       "      <td>Meet the ultimate dysfunctional family.</td>\n",
       "      <td>en|ja|es</td>\n",
       "      <td>Aya Okamoto|Yoshiaki Umegaki|Tohru Emori|Satom...</td>\n",
       "      <td>13398</td>\n",
       "    </tr>\n",
       "    <tr>\n",
       "      <th>4</th>\n",
       "      <td>A wily old codger matches wits with the King o...</td>\n",
       "      <td>12.456</td>\n",
       "      <td>Darby O'Gill and the Little People</td>\n",
       "      <td>93</td>\n",
       "      <td>1959-06-24</td>\n",
       "      <td>6.700</td>\n",
       "      <td>130</td>\n",
       "      <td>Released</td>\n",
       "      <td>A touch O'Blarney... a heap O'Magic and A LOAD...</td>\n",
       "      <td>ga|en</td>\n",
       "      <td>Albert Sharpe|Janet Munro|Sean Connery|Jimmy O...</td>\n",
       "      <td>18887</td>\n",
       "    </tr>\n",
       "  </tbody>\n",
       "</table>\n",
       "</div>"
      ],
      "text/plain": [
       "                                            overview  popularity  \\\n",
       "0  The second \"visual album\" (a collection of sho...       8.738   \n",
       "1  Set in 1929, a political boss and his advisor ...      17.518   \n",
       "2  A student's premonition of a deadly rollercoas...      40.900   \n",
       "3  On Christmas Eve, three homeless people living...      21.095   \n",
       "4  A wily old codger matches wits with the King o...      12.456   \n",
       "\n",
       "                       original_title  runtime release_date  vote_average  \\\n",
       "0                            Lemonade       65   2016-04-23         8.497   \n",
       "1                   Miller's Crossing      115   1990-09-21         7.455   \n",
       "2                 Final Destination 3       93   2006-02-09         6.081   \n",
       "3                         東京ゴッドファーザーズ       93   2003-12-29         7.895   \n",
       "4  Darby O'Gill and the Little People       93   1959-06-24         6.700   \n",
       "\n",
       "   vote_count    status                                            tagline  \\\n",
       "0         147  Released                                                NaN   \n",
       "1        1496  Released  Up is down, black is white, and nothing is wha...   \n",
       "2        3549  Released                This ride will be the death of you.   \n",
       "3        1076  Released            Meet the ultimate dysfunctional family.   \n",
       "4         130  Released  A touch O'Blarney... a heap O'Magic and A LOAD...   \n",
       "\n",
       "  spoken_languages                                               cast      id  \n",
       "0               en  Beyoncé|Jay-Z|Serena Williams|Zendaya|Quvenzha...  394269  \n",
       "1      en|ga|it|yi  Gabriel Byrne|Albert Finney|Jon Polito|Marcia ...     379  \n",
       "2               en  Mary Elizabeth Winstead|Ryan Merriman|Kris Lem...    9286  \n",
       "3         en|ja|es  Aya Okamoto|Yoshiaki Umegaki|Tohru Emori|Satom...   13398  \n",
       "4            ga|en  Albert Sharpe|Janet Munro|Sean Connery|Jimmy O...   18887  "
      ]
     },
     "execution_count": 13,
     "metadata": {},
     "output_type": "execute_result"
    }
   ],
   "source": [
    "tmdb_df.head()"
   ]
  },
  {
   "cell_type": "code",
   "execution_count": 14,
   "metadata": {},
   "outputs": [
    {
     "data": {
      "text/plain": [
       "overview               9\n",
       "popularity             0\n",
       "original_title         0\n",
       "runtime                0\n",
       "release_date           0\n",
       "vote_average           0\n",
       "vote_count             0\n",
       "status                 0\n",
       "tagline             1570\n",
       "spoken_languages      33\n",
       "cast                  44\n",
       "id                     0\n",
       "dtype: int64"
      ]
     },
     "execution_count": 14,
     "metadata": {},
     "output_type": "execute_result"
    }
   ],
   "source": [
    "tmdb_df.isna().sum()"
   ]
  },
  {
   "cell_type": "code",
   "execution_count": 15,
   "metadata": {},
   "outputs": [
    {
     "data": {
      "text/plain": [
       "overview            0\n",
       "popularity          0\n",
       "original_title      0\n",
       "runtime             0\n",
       "release_date        0\n",
       "vote_average        0\n",
       "vote_count          0\n",
       "status              0\n",
       "tagline             0\n",
       "spoken_languages    0\n",
       "cast                0\n",
       "id                  0\n",
       "dtype: int64"
      ]
     },
     "execution_count": 15,
     "metadata": {},
     "output_type": "execute_result"
    }
   ],
   "source": [
    "tmdb_df = tmdb_df.fillna(\"notavailable\")\n",
    "tmdb_df.isna().sum()"
   ]
  },
  {
   "cell_type": "code",
   "execution_count": 16,
   "metadata": {},
   "outputs": [],
   "source": [
    "tmdb_df_categorical = tmdb_df[['overview','cast','id','popularity','runtime','vote_average']].copy()"
   ]
  },
  {
   "cell_type": "code",
   "execution_count": 17,
   "metadata": {},
   "outputs": [],
   "source": [
    "# tmdb_df_numeric= tmdb_df[['popularity','runtime','vote_average','id']].copy()\n"
   ]
  },
  {
   "cell_type": "code",
   "execution_count": 18,
   "metadata": {},
   "outputs": [],
   "source": [
    "ratings_df = ratings_df.merge(tmdb_df_categorical , how='left' , left_on='tmdbId' , right_on='id')"
   ]
  },
  {
   "cell_type": "code",
   "execution_count": 19,
   "metadata": {},
   "outputs": [
    {
     "data": {
      "text/html": [
       "<div>\n",
       "<style scoped>\n",
       "    .dataframe tbody tr th:only-of-type {\n",
       "        vertical-align: middle;\n",
       "    }\n",
       "\n",
       "    .dataframe tbody tr th {\n",
       "        vertical-align: top;\n",
       "    }\n",
       "\n",
       "    .dataframe thead th {\n",
       "        text-align: right;\n",
       "    }\n",
       "</style>\n",
       "<table border=\"1\" class=\"dataframe\">\n",
       "  <thead>\n",
       "    <tr style=\"text-align: right;\">\n",
       "      <th></th>\n",
       "      <th>userId</th>\n",
       "      <th>movieId</th>\n",
       "      <th>rating</th>\n",
       "      <th>timestamp</th>\n",
       "      <th>imdbId</th>\n",
       "      <th>tmdbId</th>\n",
       "      <th>overview</th>\n",
       "      <th>cast</th>\n",
       "      <th>id</th>\n",
       "      <th>popularity</th>\n",
       "      <th>runtime</th>\n",
       "      <th>vote_average</th>\n",
       "    </tr>\n",
       "  </thead>\n",
       "  <tbody>\n",
       "    <tr>\n",
       "      <th>0</th>\n",
       "      <td>1</td>\n",
       "      <td>1</td>\n",
       "      <td>4.0</td>\n",
       "      <td>964982703</td>\n",
       "      <td>114709</td>\n",
       "      <td>862</td>\n",
       "      <td>Led by Woody, Andy's toys live happily in his ...</td>\n",
       "      <td>Tom Hanks|Tim Allen|Don Rickles|Jim Varney|Wal...</td>\n",
       "      <td>862.0</td>\n",
       "      <td>100.954</td>\n",
       "      <td>81.0</td>\n",
       "      <td>7.970</td>\n",
       "    </tr>\n",
       "    <tr>\n",
       "      <th>1</th>\n",
       "      <td>1</td>\n",
       "      <td>3</td>\n",
       "      <td>4.0</td>\n",
       "      <td>964981247</td>\n",
       "      <td>113228</td>\n",
       "      <td>15602</td>\n",
       "      <td>A family wedding reignites the ancient feud be...</td>\n",
       "      <td>Walter Matthau|Jack Lemmon|Ann-Margret|Sophia ...</td>\n",
       "      <td>15602.0</td>\n",
       "      <td>12.686</td>\n",
       "      <td>101.0</td>\n",
       "      <td>6.494</td>\n",
       "    </tr>\n",
       "    <tr>\n",
       "      <th>2</th>\n",
       "      <td>1</td>\n",
       "      <td>6</td>\n",
       "      <td>4.0</td>\n",
       "      <td>964982224</td>\n",
       "      <td>113277</td>\n",
       "      <td>949</td>\n",
       "      <td>Obsessive master thief Neil McCauley leads a t...</td>\n",
       "      <td>Al Pacino|Robert De Niro|Val Kilmer|Jon Voight...</td>\n",
       "      <td>949.0</td>\n",
       "      <td>58.478</td>\n",
       "      <td>170.0</td>\n",
       "      <td>7.908</td>\n",
       "    </tr>\n",
       "    <tr>\n",
       "      <th>3</th>\n",
       "      <td>1</td>\n",
       "      <td>47</td>\n",
       "      <td>5.0</td>\n",
       "      <td>964983815</td>\n",
       "      <td>114369</td>\n",
       "      <td>807</td>\n",
       "      <td>Two homicide detectives are on a desperate hun...</td>\n",
       "      <td>Morgan Freeman|Brad Pitt|Gwyneth Paltrow|Andre...</td>\n",
       "      <td>807.0</td>\n",
       "      <td>60.472</td>\n",
       "      <td>127.0</td>\n",
       "      <td>8.369</td>\n",
       "    </tr>\n",
       "    <tr>\n",
       "      <th>4</th>\n",
       "      <td>1</td>\n",
       "      <td>50</td>\n",
       "      <td>5.0</td>\n",
       "      <td>964982931</td>\n",
       "      <td>114814</td>\n",
       "      <td>629</td>\n",
       "      <td>Held in an L.A. interrogation room, Verbal Kin...</td>\n",
       "      <td>Gabriel Byrne|Kevin Spacey|Stephen Baldwin|Kev...</td>\n",
       "      <td>629.0</td>\n",
       "      <td>39.571</td>\n",
       "      <td>106.0</td>\n",
       "      <td>8.193</td>\n",
       "    </tr>\n",
       "  </tbody>\n",
       "</table>\n",
       "</div>"
      ],
      "text/plain": [
       "   userId  movieId  rating  timestamp  imdbId  tmdbId  \\\n",
       "0       1        1     4.0  964982703  114709     862   \n",
       "1       1        3     4.0  964981247  113228   15602   \n",
       "2       1        6     4.0  964982224  113277     949   \n",
       "3       1       47     5.0  964983815  114369     807   \n",
       "4       1       50     5.0  964982931  114814     629   \n",
       "\n",
       "                                            overview  \\\n",
       "0  Led by Woody, Andy's toys live happily in his ...   \n",
       "1  A family wedding reignites the ancient feud be...   \n",
       "2  Obsessive master thief Neil McCauley leads a t...   \n",
       "3  Two homicide detectives are on a desperate hun...   \n",
       "4  Held in an L.A. interrogation room, Verbal Kin...   \n",
       "\n",
       "                                                cast       id  popularity  \\\n",
       "0  Tom Hanks|Tim Allen|Don Rickles|Jim Varney|Wal...    862.0     100.954   \n",
       "1  Walter Matthau|Jack Lemmon|Ann-Margret|Sophia ...  15602.0      12.686   \n",
       "2  Al Pacino|Robert De Niro|Val Kilmer|Jon Voight...    949.0      58.478   \n",
       "3  Morgan Freeman|Brad Pitt|Gwyneth Paltrow|Andre...    807.0      60.472   \n",
       "4  Gabriel Byrne|Kevin Spacey|Stephen Baldwin|Kev...    629.0      39.571   \n",
       "\n",
       "   runtime  vote_average  \n",
       "0     81.0         7.970  \n",
       "1    101.0         6.494  \n",
       "2    170.0         7.908  \n",
       "3    127.0         8.369  \n",
       "4    106.0         8.193  "
      ]
     },
     "execution_count": 19,
     "metadata": {},
     "output_type": "execute_result"
    }
   ],
   "source": [
    "ratings_df.head()"
   ]
  },
  {
   "cell_type": "code",
   "execution_count": 20,
   "metadata": {},
   "outputs": [
    {
     "data": {
      "text/plain": [
       "userId            0\n",
       "movieId           0\n",
       "rating            0\n",
       "timestamp         0\n",
       "imdbId            0\n",
       "tmdbId            0\n",
       "overview        315\n",
       "cast            315\n",
       "id              315\n",
       "popularity      315\n",
       "runtime         315\n",
       "vote_average    315\n",
       "dtype: int64"
      ]
     },
     "execution_count": 20,
     "metadata": {},
     "output_type": "execute_result"
    }
   ],
   "source": [
    "ratings_df.isna().sum()"
   ]
  },
  {
   "cell_type": "code",
   "execution_count": 21,
   "metadata": {},
   "outputs": [
    {
     "data": {
      "text/plain": [
       "userId          0\n",
       "movieId         0\n",
       "rating          0\n",
       "timestamp       0\n",
       "imdbId          0\n",
       "tmdbId          0\n",
       "overview        0\n",
       "cast            0\n",
       "id              0\n",
       "popularity      0\n",
       "runtime         0\n",
       "vote_average    0\n",
       "dtype: int64"
      ]
     },
     "execution_count": 21,
     "metadata": {},
     "output_type": "execute_result"
    }
   ],
   "source": [
    "ratings_df = ratings_df.dropna(axis=0)\n",
    "ratings_df.isna().sum()"
   ]
  },
  {
   "cell_type": "code",
   "execution_count": 22,
   "metadata": {},
   "outputs": [
    {
     "data": {
      "text/plain": [
       "100508"
      ]
     },
     "execution_count": 22,
     "metadata": {},
     "output_type": "execute_result"
    }
   ],
   "source": [
    "len(ratings_df)"
   ]
  },
  {
   "cell_type": "code",
   "execution_count": 23,
   "metadata": {},
   "outputs": [
    {
     "data": {
      "text/html": [
       "<div>\n",
       "<style scoped>\n",
       "    .dataframe tbody tr th:only-of-type {\n",
       "        vertical-align: middle;\n",
       "    }\n",
       "\n",
       "    .dataframe tbody tr th {\n",
       "        vertical-align: top;\n",
       "    }\n",
       "\n",
       "    .dataframe thead th {\n",
       "        text-align: right;\n",
       "    }\n",
       "</style>\n",
       "<table border=\"1\" class=\"dataframe\">\n",
       "  <thead>\n",
       "    <tr style=\"text-align: right;\">\n",
       "      <th></th>\n",
       "      <th>movieId</th>\n",
       "      <th>title</th>\n",
       "      <th>genres</th>\n",
       "    </tr>\n",
       "  </thead>\n",
       "  <tbody>\n",
       "    <tr>\n",
       "      <th>0</th>\n",
       "      <td>1</td>\n",
       "      <td>Toy Story (1995)</td>\n",
       "      <td>Adventure Animation Children Comedy Fantasy</td>\n",
       "    </tr>\n",
       "    <tr>\n",
       "      <th>1</th>\n",
       "      <td>2</td>\n",
       "      <td>Jumanji (1995)</td>\n",
       "      <td>Adventure Children Fantasy</td>\n",
       "    </tr>\n",
       "    <tr>\n",
       "      <th>2</th>\n",
       "      <td>3</td>\n",
       "      <td>Grumpier Old Men (1995)</td>\n",
       "      <td>Comedy Romance</td>\n",
       "    </tr>\n",
       "    <tr>\n",
       "      <th>3</th>\n",
       "      <td>4</td>\n",
       "      <td>Waiting to Exhale (1995)</td>\n",
       "      <td>Comedy Drama Romance</td>\n",
       "    </tr>\n",
       "    <tr>\n",
       "      <th>4</th>\n",
       "      <td>5</td>\n",
       "      <td>Father of the Bride Part II (1995)</td>\n",
       "      <td>Comedy</td>\n",
       "    </tr>\n",
       "  </tbody>\n",
       "</table>\n",
       "</div>"
      ],
      "text/plain": [
       "   movieId                               title  \\\n",
       "0        1                    Toy Story (1995)   \n",
       "1        2                      Jumanji (1995)   \n",
       "2        3             Grumpier Old Men (1995)   \n",
       "3        4            Waiting to Exhale (1995)   \n",
       "4        5  Father of the Bride Part II (1995)   \n",
       "\n",
       "                                        genres  \n",
       "0  Adventure Animation Children Comedy Fantasy  \n",
       "1                   Adventure Children Fantasy  \n",
       "2                               Comedy Romance  \n",
       "3                         Comedy Drama Romance  \n",
       "4                                       Comedy  "
      ]
     },
     "execution_count": 23,
     "metadata": {},
     "output_type": "execute_result"
    }
   ],
   "source": [
    "movies_df_model = movies_df.copy() \n",
    "movies_df_model['genres'] = movies_df_model['genres'].str.replace(\"|\" , \" \")\n",
    "movies_df_model['genres'] = movies_df_model['genres'].str.replace(\"(no genres listed)\" , \"nogenre\")\n",
    "movies_df_model.head()"
   ]
  },
  {
   "cell_type": "code",
   "execution_count": 24,
   "metadata": {},
   "outputs": [
    {
     "data": {
      "text/plain": [
       "array(['adventure', 'animation', 'children', 'comedy', 'fantasy',\n",
       "       'romance', 'drama', 'action', 'crime', 'thriller', 'horror',\n",
       "       'mystery', 'sci-fi', 'war', 'musical', 'documentary', 'imax',\n",
       "       'western', 'film-noir', 'nogenre'], dtype=object)"
      ]
     },
     "execution_count": 24,
     "metadata": {},
     "output_type": "execute_result"
    }
   ],
   "source": [
    "movies_df['genres'] = movies_df['genres'].str.replace(\"(no genres listed)\" , \"nogenre\")\n",
    "movies_df['genres'] = movies_df['genres'].str.split(\"|\")\n",
    "movies_df = movies_df.explode(column='genres')\n",
    "genre_vocabulary = np.array(movies_df['genres'].str.lower().unique())\n",
    "genre_vocabulary"
   ]
  },
  {
   "cell_type": "code",
   "execution_count": 25,
   "metadata": {},
   "outputs": [
    {
     "data": {
      "text/html": [
       "<div>\n",
       "<style scoped>\n",
       "    .dataframe tbody tr th:only-of-type {\n",
       "        vertical-align: middle;\n",
       "    }\n",
       "\n",
       "    .dataframe tbody tr th {\n",
       "        vertical-align: top;\n",
       "    }\n",
       "\n",
       "    .dataframe thead th {\n",
       "        text-align: right;\n",
       "    }\n",
       "</style>\n",
       "<table border=\"1\" class=\"dataframe\">\n",
       "  <thead>\n",
       "    <tr style=\"text-align: right;\">\n",
       "      <th></th>\n",
       "      <th>userId</th>\n",
       "      <th>movieId</th>\n",
       "      <th>rating</th>\n",
       "      <th>timestamp</th>\n",
       "      <th>imdbId</th>\n",
       "      <th>tmdbId</th>\n",
       "      <th>overview</th>\n",
       "      <th>cast</th>\n",
       "      <th>id</th>\n",
       "      <th>popularity</th>\n",
       "      <th>runtime</th>\n",
       "      <th>vote_average</th>\n",
       "      <th>title</th>\n",
       "      <th>genres</th>\n",
       "    </tr>\n",
       "  </thead>\n",
       "  <tbody>\n",
       "    <tr>\n",
       "      <th>0</th>\n",
       "      <td>1</td>\n",
       "      <td>1</td>\n",
       "      <td>4.0</td>\n",
       "      <td>964982703</td>\n",
       "      <td>114709</td>\n",
       "      <td>862</td>\n",
       "      <td>Led by Woody, Andy's toys live happily in his ...</td>\n",
       "      <td>Tom Hanks|Tim Allen|Don Rickles|Jim Varney|Wal...</td>\n",
       "      <td>862.0</td>\n",
       "      <td>100.954</td>\n",
       "      <td>81.0</td>\n",
       "      <td>7.970</td>\n",
       "      <td>Toy Story (1995)</td>\n",
       "      <td>Adventure Animation Children Comedy Fantasy</td>\n",
       "    </tr>\n",
       "    <tr>\n",
       "      <th>1</th>\n",
       "      <td>1</td>\n",
       "      <td>3</td>\n",
       "      <td>4.0</td>\n",
       "      <td>964981247</td>\n",
       "      <td>113228</td>\n",
       "      <td>15602</td>\n",
       "      <td>A family wedding reignites the ancient feud be...</td>\n",
       "      <td>Walter Matthau|Jack Lemmon|Ann-Margret|Sophia ...</td>\n",
       "      <td>15602.0</td>\n",
       "      <td>12.686</td>\n",
       "      <td>101.0</td>\n",
       "      <td>6.494</td>\n",
       "      <td>Grumpier Old Men (1995)</td>\n",
       "      <td>Comedy Romance</td>\n",
       "    </tr>\n",
       "    <tr>\n",
       "      <th>2</th>\n",
       "      <td>1</td>\n",
       "      <td>6</td>\n",
       "      <td>4.0</td>\n",
       "      <td>964982224</td>\n",
       "      <td>113277</td>\n",
       "      <td>949</td>\n",
       "      <td>Obsessive master thief Neil McCauley leads a t...</td>\n",
       "      <td>Al Pacino|Robert De Niro|Val Kilmer|Jon Voight...</td>\n",
       "      <td>949.0</td>\n",
       "      <td>58.478</td>\n",
       "      <td>170.0</td>\n",
       "      <td>7.908</td>\n",
       "      <td>Heat (1995)</td>\n",
       "      <td>Action Crime Thriller</td>\n",
       "    </tr>\n",
       "    <tr>\n",
       "      <th>3</th>\n",
       "      <td>1</td>\n",
       "      <td>47</td>\n",
       "      <td>5.0</td>\n",
       "      <td>964983815</td>\n",
       "      <td>114369</td>\n",
       "      <td>807</td>\n",
       "      <td>Two homicide detectives are on a desperate hun...</td>\n",
       "      <td>Morgan Freeman|Brad Pitt|Gwyneth Paltrow|Andre...</td>\n",
       "      <td>807.0</td>\n",
       "      <td>60.472</td>\n",
       "      <td>127.0</td>\n",
       "      <td>8.369</td>\n",
       "      <td>Seven (a.k.a. Se7en) (1995)</td>\n",
       "      <td>Mystery Thriller</td>\n",
       "    </tr>\n",
       "    <tr>\n",
       "      <th>4</th>\n",
       "      <td>1</td>\n",
       "      <td>50</td>\n",
       "      <td>5.0</td>\n",
       "      <td>964982931</td>\n",
       "      <td>114814</td>\n",
       "      <td>629</td>\n",
       "      <td>Held in an L.A. interrogation room, Verbal Kin...</td>\n",
       "      <td>Gabriel Byrne|Kevin Spacey|Stephen Baldwin|Kev...</td>\n",
       "      <td>629.0</td>\n",
       "      <td>39.571</td>\n",
       "      <td>106.0</td>\n",
       "      <td>8.193</td>\n",
       "      <td>Usual Suspects, The (1995)</td>\n",
       "      <td>Crime Mystery Thriller</td>\n",
       "    </tr>\n",
       "  </tbody>\n",
       "</table>\n",
       "</div>"
      ],
      "text/plain": [
       "   userId  movieId  rating  timestamp  imdbId  tmdbId  \\\n",
       "0       1        1     4.0  964982703  114709     862   \n",
       "1       1        3     4.0  964981247  113228   15602   \n",
       "2       1        6     4.0  964982224  113277     949   \n",
       "3       1       47     5.0  964983815  114369     807   \n",
       "4       1       50     5.0  964982931  114814     629   \n",
       "\n",
       "                                            overview  \\\n",
       "0  Led by Woody, Andy's toys live happily in his ...   \n",
       "1  A family wedding reignites the ancient feud be...   \n",
       "2  Obsessive master thief Neil McCauley leads a t...   \n",
       "3  Two homicide detectives are on a desperate hun...   \n",
       "4  Held in an L.A. interrogation room, Verbal Kin...   \n",
       "\n",
       "                                                cast       id  popularity  \\\n",
       "0  Tom Hanks|Tim Allen|Don Rickles|Jim Varney|Wal...    862.0     100.954   \n",
       "1  Walter Matthau|Jack Lemmon|Ann-Margret|Sophia ...  15602.0      12.686   \n",
       "2  Al Pacino|Robert De Niro|Val Kilmer|Jon Voight...    949.0      58.478   \n",
       "3  Morgan Freeman|Brad Pitt|Gwyneth Paltrow|Andre...    807.0      60.472   \n",
       "4  Gabriel Byrne|Kevin Spacey|Stephen Baldwin|Kev...    629.0      39.571   \n",
       "\n",
       "   runtime  vote_average                        title  \\\n",
       "0     81.0         7.970             Toy Story (1995)   \n",
       "1    101.0         6.494      Grumpier Old Men (1995)   \n",
       "2    170.0         7.908                  Heat (1995)   \n",
       "3    127.0         8.369  Seven (a.k.a. Se7en) (1995)   \n",
       "4    106.0         8.193   Usual Suspects, The (1995)   \n",
       "\n",
       "                                        genres  \n",
       "0  Adventure Animation Children Comedy Fantasy  \n",
       "1                               Comedy Romance  \n",
       "2                        Action Crime Thriller  \n",
       "3                             Mystery Thriller  \n",
       "4                       Crime Mystery Thriller  "
      ]
     },
     "execution_count": 25,
     "metadata": {},
     "output_type": "execute_result"
    }
   ],
   "source": [
    "movies_and_ratings = ratings_df.merge(movies_df_model[['movieId','title','genres']].copy() , how='left' , on='movieId')\n",
    "movies_and_ratings.head()"
   ]
  },
  {
   "cell_type": "code",
   "execution_count": 26,
   "metadata": {},
   "outputs": [
    {
     "data": {
      "text/plain": [
       "userId            int64\n",
       "movieId           int64\n",
       "rating          float64\n",
       "timestamp         int64\n",
       "imdbId            int64\n",
       "tmdbId            int64\n",
       "overview         object\n",
       "cast             object\n",
       "id              float64\n",
       "popularity      float64\n",
       "runtime         float64\n",
       "vote_average    float64\n",
       "title            object\n",
       "genres           object\n",
       "dtype: object"
      ]
     },
     "execution_count": 26,
     "metadata": {},
     "output_type": "execute_result"
    }
   ],
   "source": [
    "movies_and_ratings.dtypes"
   ]
  },
  {
   "cell_type": "code",
   "execution_count": 27,
   "metadata": {},
   "outputs": [
    {
     "data": {
      "text/plain": [
       "userId           object\n",
       "movieId           int64\n",
       "rating          float64\n",
       "timestamp         int64\n",
       "imdbId            int64\n",
       "tmdbId            int64\n",
       "overview         object\n",
       "cast             object\n",
       "id              float64\n",
       "popularity      float64\n",
       "runtime         float64\n",
       "vote_average    float64\n",
       "title            object\n",
       "genres           object\n",
       "dtype: object"
      ]
     },
     "execution_count": 27,
     "metadata": {},
     "output_type": "execute_result"
    }
   ],
   "source": [
    "movies_and_ratings['userId'] = movies_and_ratings['userId'].astype('str')\n",
    "movies_and_ratings.dtypes"
   ]
  },
  {
   "cell_type": "code",
   "execution_count": 28,
   "metadata": {},
   "outputs": [],
   "source": [
    "movies_and_ratings_dict = {name: np.array(value) \n",
    "                         for name, value in movies_and_ratings.items()}"
   ]
  },
  {
   "cell_type": "markdown",
   "metadata": {},
   "source": [
    "## Create dataset as required by TensorFlow"
   ]
  },
  {
   "cell_type": "code",
   "execution_count": 29,
   "metadata": {},
   "outputs": [],
   "source": [
    "import itertools\n",
    "\n",
    "def slices(features):\n",
    "  for i in itertools.count():\n",
    "    # For each feature take index `i`\n",
    "    example = {name:values[i] for name, values in features.items()}\n",
    "    yield example"
   ]
  },
  {
   "cell_type": "code",
   "execution_count": 30,
   "metadata": {},
   "outputs": [],
   "source": [
    "features_ds = tf.data.Dataset.from_tensor_slices(movies_and_ratings_dict)"
   ]
  },
  {
   "cell_type": "code",
   "execution_count": 31,
   "metadata": {},
   "outputs": [],
   "source": [
    "# import tensorflow_datasets as tfds\n",
    "# ratings = tfds.load(\"movielens/100k-ratings\", split=\"train\")"
   ]
  },
  {
   "cell_type": "code",
   "execution_count": 32,
   "metadata": {},
   "outputs": [],
   "source": [
    "ratings_tf = features_ds.map(lambda x: {\n",
    "    \"movie_title\": x[\"title\"],\n",
    "    \"user_id\": x[\"userId\"],\n",
    "    \"user_rating\": x[\"rating\"],\n",
    "    \"movie_genre\":x[\"genres\"],\n",
    "    \"movie_overview\":x[\"overview\"], \n",
    "    \"movie_cast\":x[\"cast\"],\n",
    "    \"movie_popularity\":x[\"popularity\"],\n",
    "    \"movie_runtime\":x[\"runtime\"],\n",
    "    \"movie_vote_average\":x[\"vote_average\"],\n",
    "})\n"
   ]
  },
  {
   "cell_type": "code",
   "execution_count": 33,
   "metadata": {},
   "outputs": [
    {
     "data": {
      "text/plain": [
       "100508"
      ]
     },
     "execution_count": 33,
     "metadata": {},
     "output_type": "execute_result"
    }
   ],
   "source": [
    "len(ratings_tf)"
   ]
  },
  {
   "cell_type": "markdown",
   "metadata": {},
   "source": [
    "## Divide into test and train"
   ]
  },
  {
   "cell_type": "code",
   "execution_count": 34,
   "metadata": {},
   "outputs": [],
   "source": [
    "tf.random.set_seed(42)\n",
    "shuffled = ratings_tf.shuffle(100508, seed=42, reshuffle_each_iteration=False)\n",
    "\n",
    "train = shuffled.take(80_000)\n",
    "test = shuffled.skip(80_000).take(20_508)"
   ]
  },
  {
   "cell_type": "code",
   "execution_count": 35,
   "metadata": {},
   "outputs": [],
   "source": [
    "movie_titles = ratings_tf.batch(1_000_000).map(lambda x: x[\"movie_title\"])\n",
    "user_ids = ratings_tf.batch(1_000_000).map(lambda x: x[\"user_id\"])\n",
    "movie_genres = ratings_tf.batch(1_000_000).map(lambda x: x[\"movie_genre\"])\n",
    "movie_overviews = ratings_tf.batch(1_000_000).map(lambda x: x[\"movie_overview\"])\n",
    "movie_casts = ratings_tf.batch(1_000_000).map(lambda x: x[\"movie_cast\"])\n",
    "movie_popularities = ratings_tf.batch(1_000_000).map(lambda x: x[\"movie_popularity\"])\n",
    "movie_runtimes = ratings_tf.batch(1_000_000).map(lambda x: x[\"movie_runtime\"])\n",
    "movie_vote_averages = ratings_tf.batch(1_000_000).map(lambda x: x[\"movie_vote_average\"])\n",
    "\n",
    "unique_movie_titles = np.unique(np.concatenate(list(movie_titles)))\n",
    "unique_user_ids = np.unique(np.concatenate(list(user_ids)))\n",
    "unique_movie_genres = np.unique(np.concatenate(list(movie_genres)))"
   ]
  },
  {
   "cell_type": "code",
   "execution_count": 36,
   "metadata": {},
   "outputs": [],
   "source": [
    "overview_vocab = np.array(movies_and_ratings['overview'])\n",
    "cast_vocab = np.array(movies_and_ratings['cast'])"
   ]
  },
  {
   "cell_type": "markdown",
   "metadata": {},
   "source": [
    "## Define Model Architecture"
   ]
  },
  {
   "cell_type": "code",
   "execution_count": 37,
   "metadata": {},
   "outputs": [],
   "source": [
    "class RankingModel(tf.keras.Model):\n",
    "\n",
    "  def __init__(self):\n",
    "    super().__init__()\n",
    "    embedding_dimension = 32\n",
    "    max_tokens = 10_000\n",
    "    \n",
    "    # Compute embeddings for users.\n",
    "    self.user_embeddings = tf.keras.Sequential([\n",
    "      tf.keras.layers.StringLookup(\n",
    "        vocabulary=unique_user_ids, mask_token=None),\n",
    "      tf.keras.layers.Embedding(len(unique_user_ids) + 1, embedding_dimension)\n",
    "    ])\n",
    "\n",
    "    # Compute embeddings for movies.\n",
    "    self.movie_embeddings = tf.keras.Sequential([\n",
    "      tf.keras.layers.StringLookup(\n",
    "        vocabulary=unique_movie_titles, mask_token=None),\n",
    "      tf.keras.layers.Embedding(len(unique_movie_titles) + 1, embedding_dimension)\n",
    "    ])\n",
    "    \n",
    "    # Genre vector\n",
    "    self.genre_vectorizer = tf.keras.layers.TextVectorization(\n",
    "        max_tokens=max_tokens,\n",
    "        standardize='lower',\n",
    "        vocabulary=genre_vocabulary)\n",
    "\n",
    "    self.genre_embedding = tf.keras.Sequential([\n",
    "      self.genre_vectorizer,\n",
    "      tf.keras.layers.Embedding(max_tokens, 8, mask_zero=True),\n",
    "      tf.keras.layers.GlobalAveragePooling1D()\n",
    "    ])\n",
    "\n",
    "    # Overview Vector\n",
    "    self.overview_vectorizer = tf.keras.layers.TextVectorization(\n",
    "        max_tokens=max_tokens)\n",
    "    \n",
    "    self.overview_vectorizer.adapt(overview_vocab)\n",
    "\n",
    "    self.overview_embedding = tf.keras.Sequential([\n",
    "      self.overview_vectorizer,\n",
    "      tf.keras.layers.Embedding(max_tokens, 32, mask_zero=True),\n",
    "      tf.keras.layers.GlobalAveragePooling1D()\n",
    "    ])\n",
    "\n",
    "    \n",
    "\n",
    "    # Cast Vector\n",
    "    self.cast_vectorizer = tf.keras.layers.TextVectorization(\n",
    "        max_tokens=max_tokens)\n",
    "    \n",
    "    self.cast_vectorizer.adapt(cast_vocab)\n",
    "\n",
    "    self.cast_embedding = tf.keras.Sequential([\n",
    "      self.cast_vectorizer,\n",
    "      tf.keras.layers.Embedding(max_tokens, 8, mask_zero=True),\n",
    "      tf.keras.layers.GlobalAveragePooling1D()\n",
    "    ])\n",
    "\n",
    "    \n",
    "\n",
    "    # Compute predictions.\n",
    "    self.ratings = tf.keras.Sequential([\n",
    "      # Learn multiple dense layers.\n",
    "      tf.keras.layers.BatchNormalization(),\n",
    "      tf.keras.layers.Dense(128, activation=\"relu\"),\n",
    "      tf.keras.layers.Dense(64, activation=\"relu\"),\n",
    "      # tf.keras.layers.Dense(32, activation=\"relu\"),\n",
    "      # tf.keras.layers.Dense(16, activation=\"relu\"),\n",
    "      # Make rating predictions in the final layer.\n",
    "      tf.keras.layers.Dense(1)\n",
    "  ])\n",
    "    \n",
    "\n",
    "\n",
    "  def call(self, inputs):\n",
    "\n",
    "    user_id, movie_title, movie_genre, movie_overview, movie_cast, movie_popularity, movie_runtime, movie_vote_average  = inputs\n",
    "\n",
    "    # user_id, movie_title, movie_genre = inputs\n",
    "\n",
    "    user_embedding = self.user_embeddings(user_id)\n",
    "    movie_embedding = self.movie_embeddings(movie_title)\n",
    "    genre_embedding = self.genre_embedding(movie_genre)\n",
    "    overview_embedding = self.genre_embedding(movie_overview)\n",
    "    cast_embedding = self.genre_embedding(movie_cast)\n",
    "    movie_popularity_embed = tf.reshape(movie_popularity , [-1,1])\n",
    "    movie_runtime_embed = tf.reshape(movie_runtime , [-1,1])\n",
    "    movie_vote_average_embed = tf.reshape(movie_vote_average , [-1,1])\n",
    "\n",
    "    return self.ratings(tf.concat([user_embedding, \n",
    "                                   movie_embedding,\n",
    "                                   genre_embedding,\n",
    "                                   overview_embedding,\n",
    "                                   cast_embedding,\n",
    "                                   movie_popularity_embed,\n",
    "                                   movie_runtime_embed,\n",
    "                                   movie_vote_average_embed],\n",
    "                                   \n",
    "                                   axis=1))"
   ]
  },
  {
   "cell_type": "code",
   "execution_count": 38,
   "metadata": {},
   "outputs": [],
   "source": [
    "import tensorflow_recommenders as tfrs\n",
    "task = tfrs.tasks.Ranking(\n",
    "  loss = tf.keras.losses.MeanSquaredError(),\n",
    "  metrics=[tf.keras.metrics.RootMeanSquaredError()]\n",
    ")"
   ]
  },
  {
   "cell_type": "code",
   "execution_count": 39,
   "metadata": {},
   "outputs": [],
   "source": [
    "from typing import Dict, Text\n",
    "class MovielensModel(tfrs.models.Model):\n",
    "\n",
    "  def __init__(self):\n",
    "    super().__init__()\n",
    "    self.ranking_model: tf.keras.Model = RankingModel()\n",
    "    self.task: tf.keras.layers.Layer = tfrs.tasks.Ranking(\n",
    "      loss = tf.keras.losses.MeanSquaredError(),\n",
    "      metrics=[tf.keras.metrics.RootMeanSquaredError()]\n",
    "    )\n",
    "\n",
    "  def call(self, features: Dict[str, tf.Tensor]) -> tf.Tensor:\n",
    "    return self.ranking_model(\n",
    "        (features[\"user_id\"], \n",
    "         features[\"movie_title\"], \n",
    "         features[\"movie_genre\"],\n",
    "         features[\"movie_overview\"],\n",
    "         features[\"movie_cast\"],\n",
    "         features[\"movie_popularity\"],\n",
    "         features[\"movie_runtime\"],\n",
    "         features[\"movie_vote_average\"]\n",
    "         ))\n",
    "\n",
    "  def compute_loss(self, features: Dict[Text, tf.Tensor], training=False) -> tf.Tensor:\n",
    "    labels = features.pop(\"user_rating\")\n",
    "\n",
    "    rating_predictions = self(features)\n",
    "\n",
    "    # The task computes the loss and the metrics.\n",
    "    return self.task(labels=labels, predictions=rating_predictions)"
   ]
  },
  {
   "cell_type": "code",
   "execution_count": 40,
   "metadata": {},
   "outputs": [],
   "source": [
    "model = MovielensModel()\n",
    "model.compile(optimizer=tf.keras.optimizers.legacy.Adagrad(learning_rate=0.1))\n",
    "\n",
    "cached_train = train.shuffle(100508).batch(8192).cache()\n",
    "cached_test = test.batch(4096).cache()"
   ]
  },
  {
   "cell_type": "code",
   "execution_count": 41,
   "metadata": {},
   "outputs": [
    {
     "name": "stdout",
     "output_type": "stream",
     "text": [
      "Epoch 1/100\n"
     ]
    },
    {
     "name": "stdout",
     "output_type": "stream",
     "text": [
      "WARNING:tensorflow:Gradients do not exist for variables ['embedding_3/embeddings:0', 'embedding_4/embeddings:0'] when minimizing the loss. If you're using `model.compile()`, did you forget to provide a `loss` argument?\n",
      "WARNING:tensorflow:Gradients do not exist for variables ['embedding_3/embeddings:0', 'embedding_4/embeddings:0'] when minimizing the loss. If you're using `model.compile()`, did you forget to provide a `loss` argument?\n",
      "10/10 [==============================] - 6s 321ms/step - root_mean_squared_error: 82.2842 - loss: 6011.4198 - regularization_loss: 0.0000e+00 - total_loss: 6011.4198 - val_root_mean_squared_error: 2.0087 - val_loss: 4.2158 - val_regularization_loss: 0.0000e+00 - val_total_loss: 4.2158\n",
      "Epoch 2/100\n",
      "10/10 [==============================] - 1s 127ms/step - root_mean_squared_error: 1.9225 - loss: 3.6644 - regularization_loss: 0.0000e+00 - total_loss: 3.6644 - val_root_mean_squared_error: 1.7929 - val_loss: 3.4313 - val_regularization_loss: 0.0000e+00 - val_total_loss: 3.4313\n",
      "Epoch 3/100\n",
      "10/10 [==============================] - 1s 138ms/step - root_mean_squared_error: 1.7451 - loss: 3.0262 - regularization_loss: 0.0000e+00 - total_loss: 3.0262 - val_root_mean_squared_error: 1.6517 - val_loss: 2.8191 - val_regularization_loss: 0.0000e+00 - val_total_loss: 2.8191\n",
      "Epoch 4/100\n",
      "10/10 [==============================] - 1s 117ms/step - root_mean_squared_error: 1.6171 - loss: 2.6027 - regularization_loss: 0.0000e+00 - total_loss: 2.6027 - val_root_mean_squared_error: 1.5469 - val_loss: 2.3858 - val_regularization_loss: 0.0000e+00 - val_total_loss: 2.3858\n",
      "Epoch 5/100\n",
      "10/10 [==============================] - 1s 125ms/step - root_mean_squared_error: 1.5221 - loss: 2.3086 - regularization_loss: 0.0000e+00 - total_loss: 2.3086 - val_root_mean_squared_error: 1.4671 - val_loss: 2.0750 - val_regularization_loss: 0.0000e+00 - val_total_loss: 2.0750\n",
      "Epoch 6/100\n",
      "10/10 [==============================] - 1s 110ms/step - root_mean_squared_error: 1.4486 - loss: 2.0930 - regularization_loss: 0.0000e+00 - total_loss: 2.0930 - val_root_mean_squared_error: 1.4040 - val_loss: 1.8453 - val_regularization_loss: 0.0000e+00 - val_total_loss: 1.8453\n",
      "Epoch 7/100\n",
      "10/10 [==============================] - 1s 116ms/step - root_mean_squared_error: 1.3901 - loss: 1.9290 - regularization_loss: 0.0000e+00 - total_loss: 1.9290 - val_root_mean_squared_error: 1.3546 - val_loss: 1.6710 - val_regularization_loss: 0.0000e+00 - val_total_loss: 1.6710\n",
      "Epoch 8/100\n",
      "10/10 [==============================] - 1s 146ms/step - root_mean_squared_error: 1.8520 - loss: 5.5678 - regularization_loss: 0.0000e+00 - total_loss: 5.5678 - val_root_mean_squared_error: 2.3941 - val_loss: 7.1072 - val_regularization_loss: 0.0000e+00 - val_total_loss: 7.1072\n",
      "Epoch 9/100\n",
      "10/10 [==============================] - 1s 139ms/step - root_mean_squared_error: 1.5246 - loss: 2.2556 - regularization_loss: 0.0000e+00 - total_loss: 2.2556 - val_root_mean_squared_error: 1.2898 - val_loss: 1.4534 - val_regularization_loss: 0.0000e+00 - val_total_loss: 1.4534\n",
      "Epoch 10/100\n",
      "10/10 [==============================] - 2s 160ms/step - root_mean_squared_error: 1.2840 - loss: 1.6481 - regularization_loss: 0.0000e+00 - total_loss: 1.6481 - val_root_mean_squared_error: 1.2653 - val_loss: 1.3659 - val_regularization_loss: 0.0000e+00 - val_total_loss: 1.3659\n",
      "Epoch 11/100\n",
      "10/10 [==============================] - 2s 161ms/step - root_mean_squared_error: 1.2610 - loss: 1.5900 - regularization_loss: 0.0000e+00 - total_loss: 1.5900 - val_root_mean_squared_error: 1.2456 - val_loss: 1.3020 - val_regularization_loss: 0.0000e+00 - val_total_loss: 1.3020\n",
      "Epoch 12/100\n",
      "10/10 [==============================] - 1s 124ms/step - root_mean_squared_error: 1.2422 - loss: 1.5432 - regularization_loss: 0.0000e+00 - total_loss: 1.5432 - val_root_mean_squared_error: 1.2292 - val_loss: 1.2507 - val_regularization_loss: 0.0000e+00 - val_total_loss: 1.2507\n",
      "Epoch 13/100\n",
      "10/10 [==============================] - 2s 156ms/step - root_mean_squared_error: 1.2264 - loss: 1.5043 - regularization_loss: 0.0000e+00 - total_loss: 1.5043 - val_root_mean_squared_error: 1.2152 - val_loss: 1.2089 - val_regularization_loss: 0.0000e+00 - val_total_loss: 1.2089\n",
      "Epoch 14/100\n",
      "10/10 [==============================] - 1s 123ms/step - root_mean_squared_error: 1.2128 - loss: 1.4712 - regularization_loss: 0.0000e+00 - total_loss: 1.4712 - val_root_mean_squared_error: 1.2029 - val_loss: 1.1742 - val_regularization_loss: 0.0000e+00 - val_total_loss: 1.1742\n",
      "Epoch 15/100\n",
      "10/10 [==============================] - 1s 129ms/step - root_mean_squared_error: 1.2006 - loss: 1.4419 - regularization_loss: 0.0000e+00 - total_loss: 1.4419 - val_root_mean_squared_error: 1.1910 - val_loss: 1.1456 - val_regularization_loss: 0.0000e+00 - val_total_loss: 1.1456\n",
      "Epoch 16/100\n",
      "10/10 [==============================] - 1s 124ms/step - root_mean_squared_error: 1.1890 - loss: 1.4144 - regularization_loss: 0.0000e+00 - total_loss: 1.4144 - val_root_mean_squared_error: 1.1803 - val_loss: 1.1209 - val_regularization_loss: 0.0000e+00 - val_total_loss: 1.1209\n",
      "Epoch 17/100\n",
      "10/10 [==============================] - 1s 128ms/step - root_mean_squared_error: 1.1783 - loss: 1.3893 - regularization_loss: 0.0000e+00 - total_loss: 1.3893 - val_root_mean_squared_error: 1.1707 - val_loss: 1.1002 - val_regularization_loss: 0.0000e+00 - val_total_loss: 1.1002\n",
      "Epoch 18/100\n",
      "10/10 [==============================] - 1s 119ms/step - root_mean_squared_error: 1.1683 - loss: 1.3657 - regularization_loss: 0.0000e+00 - total_loss: 1.3657 - val_root_mean_squared_error: 1.1603 - val_loss: 1.0786 - val_regularization_loss: 0.0000e+00 - val_total_loss: 1.0786\n",
      "Epoch 19/100\n",
      "10/10 [==============================] - 1s 124ms/step - root_mean_squared_error: 1.1588 - loss: 1.3434 - regularization_loss: 0.0000e+00 - total_loss: 1.3434 - val_root_mean_squared_error: 1.1506 - val_loss: 1.0604 - val_regularization_loss: 0.0000e+00 - val_total_loss: 1.0604\n",
      "Epoch 20/100\n",
      "10/10 [==============================] - 1s 134ms/step - root_mean_squared_error: 1.1494 - loss: 1.3215 - regularization_loss: 0.0000e+00 - total_loss: 1.3215 - val_root_mean_squared_error: 1.1411 - val_loss: 1.0453 - val_regularization_loss: 0.0000e+00 - val_total_loss: 1.0453\n",
      "Epoch 21/100\n",
      "10/10 [==============================] - 1s 116ms/step - root_mean_squared_error: 1.1426 - loss: 1.3053 - regularization_loss: 0.0000e+00 - total_loss: 1.3053 - val_root_mean_squared_error: 1.1314 - val_loss: 1.0272 - val_regularization_loss: 0.0000e+00 - val_total_loss: 1.0272\n",
      "Epoch 22/100\n",
      "10/10 [==============================] - 1s 136ms/step - root_mean_squared_error: 1.1305 - loss: 1.2784 - regularization_loss: 0.0000e+00 - total_loss: 1.2784 - val_root_mean_squared_error: 1.1224 - val_loss: 1.0144 - val_regularization_loss: 0.0000e+00 - val_total_loss: 1.0144\n",
      "Epoch 23/100\n",
      "10/10 [==============================] - 2s 152ms/step - root_mean_squared_error: 1.1210 - loss: 1.2575 - regularization_loss: 0.0000e+00 - total_loss: 1.2575 - val_root_mean_squared_error: 1.1254 - val_loss: 1.0136 - val_regularization_loss: 0.0000e+00 - val_total_loss: 1.0136\n",
      "Epoch 24/100\n",
      "10/10 [==============================] - 2s 228ms/step - root_mean_squared_error: 1.1098 - loss: 1.2296 - regularization_loss: 0.0000e+00 - total_loss: 1.2296 - val_root_mean_squared_error: 1.1017 - val_loss: 1.0087 - val_regularization_loss: 0.0000e+00 - val_total_loss: 1.0087\n",
      "Epoch 25/100\n",
      "10/10 [==============================] - 2s 191ms/step - root_mean_squared_error: 2.6413 - loss: 11.3165 - regularization_loss: 0.0000e+00 - total_loss: 11.3165 - val_root_mean_squared_error: 2.5938 - val_loss: 4.6647 - val_regularization_loss: 0.0000e+00 - val_total_loss: 4.6647\n",
      "Epoch 26/100\n",
      "10/10 [==============================] - 2s 228ms/step - root_mean_squared_error: 1.5936 - loss: 3.0843 - regularization_loss: 0.0000e+00 - total_loss: 3.0843 - val_root_mean_squared_error: 1.6077 - val_loss: 3.2647 - val_regularization_loss: 0.0000e+00 - val_total_loss: 3.2647\n",
      "Epoch 27/100\n",
      "10/10 [==============================] - 2s 167ms/step - root_mean_squared_error: 1.1977 - loss: 1.4126 - regularization_loss: 0.0000e+00 - total_loss: 1.4126 - val_root_mean_squared_error: 1.1050 - val_loss: 0.9460 - val_regularization_loss: 0.0000e+00 - val_total_loss: 0.9460\n",
      "Epoch 28/100\n",
      "10/10 [==============================] - 1s 124ms/step - root_mean_squared_error: 1.1029 - loss: 1.2171 - regularization_loss: 0.0000e+00 - total_loss: 1.2171 - val_root_mean_squared_error: 1.0974 - val_loss: 0.9313 - val_regularization_loss: 0.0000e+00 - val_total_loss: 0.9313\n",
      "Epoch 29/100\n",
      "10/10 [==============================] - 1s 145ms/step - root_mean_squared_error: 1.0958 - loss: 1.2017 - regularization_loss: 0.0000e+00 - total_loss: 1.2017 - val_root_mean_squared_error: 1.0907 - val_loss: 0.9192 - val_regularization_loss: 0.0000e+00 - val_total_loss: 0.9192\n",
      "Epoch 30/100\n",
      "10/10 [==============================] - 1s 131ms/step - root_mean_squared_error: 1.0891 - loss: 1.1870 - regularization_loss: 0.0000e+00 - total_loss: 1.1870 - val_root_mean_squared_error: 1.0840 - val_loss: 0.9071 - val_regularization_loss: 0.0000e+00 - val_total_loss: 0.9071\n",
      "Epoch 31/100\n",
      "10/10 [==============================] - 1s 146ms/step - root_mean_squared_error: 1.0822 - loss: 1.1720 - regularization_loss: 0.0000e+00 - total_loss: 1.1720 - val_root_mean_squared_error: 1.0764 - val_loss: 0.8951 - val_regularization_loss: 0.0000e+00 - val_total_loss: 0.8951\n",
      "Epoch 32/100\n",
      "10/10 [==============================] - 2s 157ms/step - root_mean_squared_error: 1.1050 - loss: 1.2151 - regularization_loss: 0.0000e+00 - total_loss: 1.2151 - val_root_mean_squared_error: 1.0726 - val_loss: 0.8915 - val_regularization_loss: 0.0000e+00 - val_total_loss: 0.8915\n",
      "Epoch 33/100\n",
      "10/10 [==============================] - 1s 139ms/step - root_mean_squared_error: 1.0708 - loss: 1.1476 - regularization_loss: 0.0000e+00 - total_loss: 1.1476 - val_root_mean_squared_error: 1.0663 - val_loss: 0.8719 - val_regularization_loss: 0.0000e+00 - val_total_loss: 0.8719\n",
      "Epoch 34/100\n",
      "10/10 [==============================] - 1s 122ms/step - root_mean_squared_error: 1.0647 - loss: 1.1346 - regularization_loss: 0.0000e+00 - total_loss: 1.1346 - val_root_mean_squared_error: 1.0604 - val_loss: 0.8605 - val_regularization_loss: 0.0000e+00 - val_total_loss: 0.8605\n",
      "Epoch 35/100\n",
      "10/10 [==============================] - 1s 120ms/step - root_mean_squared_error: 1.0587 - loss: 1.1219 - regularization_loss: 0.0000e+00 - total_loss: 1.1219 - val_root_mean_squared_error: 1.0544 - val_loss: 0.8492 - val_regularization_loss: 0.0000e+00 - val_total_loss: 0.8492\n",
      "Epoch 36/100\n",
      "10/10 [==============================] - 1s 154ms/step - root_mean_squared_error: 1.0526 - loss: 1.1091 - regularization_loss: 0.0000e+00 - total_loss: 1.1091 - val_root_mean_squared_error: 1.0483 - val_loss: 0.8383 - val_regularization_loss: 0.0000e+00 - val_total_loss: 0.8383\n",
      "Epoch 37/100\n",
      "10/10 [==============================] - 1s 121ms/step - root_mean_squared_error: 1.0455 - loss: 1.0934 - regularization_loss: 0.0000e+00 - total_loss: 1.0934 - val_root_mean_squared_error: 1.0362 - val_loss: 0.8222 - val_regularization_loss: 0.0000e+00 - val_total_loss: 0.8222\n",
      "Epoch 38/100\n",
      "10/10 [==============================] - 2s 155ms/step - root_mean_squared_error: 1.0177 - loss: 1.0342 - regularization_loss: 0.0000e+00 - total_loss: 1.0342 - val_root_mean_squared_error: 1.0032 - val_loss: 0.7387 - val_regularization_loss: 0.0000e+00 - val_total_loss: 0.7387\n",
      "Epoch 39/100\n",
      "10/10 [==============================] - 1s 123ms/step - root_mean_squared_error: 0.9986 - loss: 0.9974 - regularization_loss: 0.0000e+00 - total_loss: 0.9974 - val_root_mean_squared_error: 0.9928 - val_loss: 0.7342 - val_regularization_loss: 0.0000e+00 - val_total_loss: 0.7342\n",
      "Epoch 40/100\n",
      "10/10 [==============================] - 1s 130ms/step - root_mean_squared_error: 0.9889 - loss: 0.9781 - regularization_loss: 0.0000e+00 - total_loss: 0.9781 - val_root_mean_squared_error: 0.9839 - val_loss: 0.7236 - val_regularization_loss: 0.0000e+00 - val_total_loss: 0.7236\n",
      "Epoch 41/100\n",
      "10/10 [==============================] - 1s 119ms/step - root_mean_squared_error: 0.9800 - loss: 0.9605 - regularization_loss: 0.0000e+00 - total_loss: 0.9605 - val_root_mean_squared_error: 0.9754 - val_loss: 0.7119 - val_regularization_loss: 0.0000e+00 - val_total_loss: 0.7119\n",
      "Epoch 42/100\n",
      "10/10 [==============================] - 1s 115ms/step - root_mean_squared_error: 0.9715 - loss: 0.9439 - regularization_loss: 0.0000e+00 - total_loss: 0.9439 - val_root_mean_squared_error: 0.9674 - val_loss: 0.7010 - val_regularization_loss: 0.0000e+00 - val_total_loss: 0.7010\n",
      "Epoch 43/100\n",
      "10/10 [==============================] - 1s 140ms/step - root_mean_squared_error: 0.9635 - loss: 0.9284 - regularization_loss: 0.0000e+00 - total_loss: 0.9284 - val_root_mean_squared_error: 0.9600 - val_loss: 0.6913 - val_regularization_loss: 0.0000e+00 - val_total_loss: 0.6913\n",
      "Epoch 44/100\n",
      "10/10 [==============================] - 1s 112ms/step - root_mean_squared_error: 0.9560 - loss: 0.9141 - regularization_loss: 0.0000e+00 - total_loss: 0.9141 - val_root_mean_squared_error: 0.9531 - val_loss: 0.6836 - val_regularization_loss: 0.0000e+00 - val_total_loss: 0.6836\n",
      "Epoch 45/100\n",
      "10/10 [==============================] - 1s 141ms/step - root_mean_squared_error: 0.9491 - loss: 0.9010 - regularization_loss: 0.0000e+00 - total_loss: 0.9010 - val_root_mean_squared_error: 0.9468 - val_loss: 0.6774 - val_regularization_loss: 0.0000e+00 - val_total_loss: 0.6774\n",
      "Epoch 46/100\n",
      "10/10 [==============================] - 1s 140ms/step - root_mean_squared_error: 0.9427 - loss: 0.8889 - regularization_loss: 0.0000e+00 - total_loss: 0.8889 - val_root_mean_squared_error: 0.9410 - val_loss: 0.6723 - val_regularization_loss: 0.0000e+00 - val_total_loss: 0.6723\n",
      "Epoch 47/100\n",
      "10/10 [==============================] - 2s 158ms/step - root_mean_squared_error: 0.9369 - loss: 0.8779 - regularization_loss: 0.0000e+00 - total_loss: 0.8779 - val_root_mean_squared_error: 0.9357 - val_loss: 0.6688 - val_regularization_loss: 0.0000e+00 - val_total_loss: 0.6688\n",
      "Epoch 48/100\n",
      "10/10 [==============================] - 1s 128ms/step - root_mean_squared_error: 0.9315 - loss: 0.8679 - regularization_loss: 0.0000e+00 - total_loss: 0.8679 - val_root_mean_squared_error: 0.9309 - val_loss: 0.6660 - val_regularization_loss: 0.0000e+00 - val_total_loss: 0.6660\n",
      "Epoch 49/100\n",
      "10/10 [==============================] - 1s 122ms/step - root_mean_squared_error: 0.9266 - loss: 0.8588 - regularization_loss: 0.0000e+00 - total_loss: 0.8588 - val_root_mean_squared_error: 0.9266 - val_loss: 0.6686 - val_regularization_loss: 0.0000e+00 - val_total_loss: 0.6686\n",
      "Epoch 50/100\n",
      "10/10 [==============================] - 1s 128ms/step - root_mean_squared_error: 0.9223 - loss: 0.8509 - regularization_loss: 0.0000e+00 - total_loss: 0.8509 - val_root_mean_squared_error: 0.9235 - val_loss: 0.6827 - val_regularization_loss: 0.0000e+00 - val_total_loss: 0.6827\n",
      "Epoch 51/100\n",
      "10/10 [==============================] - 1s 126ms/step - root_mean_squared_error: 0.9196 - loss: 0.8463 - regularization_loss: 0.0000e+00 - total_loss: 0.8463 - val_root_mean_squared_error: 0.9250 - val_loss: 0.7366 - val_regularization_loss: 0.0000e+00 - val_total_loss: 0.7366\n",
      "Epoch 52/100\n",
      "10/10 [==============================] - 1s 120ms/step - root_mean_squared_error: 0.9237 - loss: 0.8554 - regularization_loss: 0.0000e+00 - total_loss: 0.8554 - val_root_mean_squared_error: 0.9422 - val_loss: 0.8566 - val_regularization_loss: 0.0000e+00 - val_total_loss: 0.8566\n",
      "Epoch 53/100\n",
      "10/10 [==============================] - 1s 123ms/step - root_mean_squared_error: 0.9384 - loss: 0.8813 - regularization_loss: 0.0000e+00 - total_loss: 0.8813 - val_root_mean_squared_error: 0.9496 - val_loss: 0.8976 - val_regularization_loss: 0.0000e+00 - val_total_loss: 0.8976\n",
      "Epoch 54/100\n",
      "10/10 [==============================] - 1s 119ms/step - root_mean_squared_error: 0.9300 - loss: 0.8639 - regularization_loss: 0.0000e+00 - total_loss: 0.8639 - val_root_mean_squared_error: 0.9293 - val_loss: 0.8081 - val_regularization_loss: 0.0000e+00 - val_total_loss: 0.8081\n",
      "Epoch 55/100\n",
      "10/10 [==============================] - 1s 118ms/step - root_mean_squared_error: 0.9167 - loss: 0.8404 - regularization_loss: 0.0000e+00 - total_loss: 0.8404 - val_root_mean_squared_error: 0.9201 - val_loss: 0.7676 - val_regularization_loss: 0.0000e+00 - val_total_loss: 0.7676\n",
      "Epoch 56/100\n",
      "10/10 [==============================] - 1s 143ms/step - root_mean_squared_error: 0.9119 - loss: 0.8321 - regularization_loss: 0.0000e+00 - total_loss: 0.8321 - val_root_mean_squared_error: 0.9184 - val_loss: 0.7718 - val_regularization_loss: 0.0000e+00 - val_total_loss: 0.7718\n",
      "Epoch 57/100\n",
      "10/10 [==============================] - 1s 124ms/step - root_mean_squared_error: 0.9113 - loss: 0.8313 - regularization_loss: 0.0000e+00 - total_loss: 0.8313 - val_root_mean_squared_error: 0.9205 - val_loss: 0.7976 - val_regularization_loss: 0.0000e+00 - val_total_loss: 0.7976\n",
      "Epoch 58/100\n",
      "10/10 [==============================] - 1s 125ms/step - root_mean_squared_error: 0.9124 - loss: 0.8331 - regularization_loss: 0.0000e+00 - total_loss: 0.8331 - val_root_mean_squared_error: 0.9219 - val_loss: 0.8163 - val_regularization_loss: 0.0000e+00 - val_total_loss: 0.8163\n",
      "Epoch 59/100\n",
      "10/10 [==============================] - 1s 120ms/step - root_mean_squared_error: 0.9115 - loss: 0.8312 - regularization_loss: 0.0000e+00 - total_loss: 0.8312 - val_root_mean_squared_error: 0.9189 - val_loss: 0.8100 - val_regularization_loss: 0.0000e+00 - val_total_loss: 0.8100\n",
      "Epoch 60/100\n",
      "10/10 [==============================] - 1s 121ms/step - root_mean_squared_error: 0.9076 - loss: 0.8239 - regularization_loss: 0.0000e+00 - total_loss: 0.8239 - val_root_mean_squared_error: 0.9138 - val_loss: 0.7912 - val_regularization_loss: 0.0000e+00 - val_total_loss: 0.7912\n",
      "Epoch 61/100\n",
      "10/10 [==============================] - 1s 120ms/step - root_mean_squared_error: 0.9032 - loss: 0.8161 - regularization_loss: 0.0000e+00 - total_loss: 0.8161 - val_root_mean_squared_error: 0.9090 - val_loss: 0.7731 - val_regularization_loss: 0.0000e+00 - val_total_loss: 0.7731\n",
      "Epoch 62/100\n",
      "10/10 [==============================] - 1s 124ms/step - root_mean_squared_error: 0.8994 - loss: 0.8093 - regularization_loss: 0.0000e+00 - total_loss: 0.8093 - val_root_mean_squared_error: 0.9057 - val_loss: 0.7631 - val_regularization_loss: 0.0000e+00 - val_total_loss: 0.7631\n",
      "Epoch 63/100\n",
      "10/10 [==============================] - 1s 120ms/step - root_mean_squared_error: 0.8971 - loss: 0.8054 - regularization_loss: 0.0000e+00 - total_loss: 0.8054 - val_root_mean_squared_error: 0.9051 - val_loss: 0.7705 - val_regularization_loss: 0.0000e+00 - val_total_loss: 0.7705\n",
      "Epoch 64/100\n",
      "10/10 [==============================] - 1s 138ms/step - root_mean_squared_error: 0.8969 - loss: 0.8052 - regularization_loss: 0.0000e+00 - total_loss: 0.8052 - val_root_mean_squared_error: 0.9064 - val_loss: 0.7887 - val_regularization_loss: 0.0000e+00 - val_total_loss: 0.7887\n",
      "Epoch 65/100\n",
      "10/10 [==============================] - 1s 127ms/step - root_mean_squared_error: 0.8985 - loss: 0.8081 - regularization_loss: 0.0000e+00 - total_loss: 0.8081 - val_root_mean_squared_error: 0.9090 - val_loss: 0.8128 - val_regularization_loss: 0.0000e+00 - val_total_loss: 0.8128\n",
      "Epoch 66/100\n",
      "10/10 [==============================] - 1s 131ms/step - root_mean_squared_error: 0.8986 - loss: 0.8080 - regularization_loss: 0.0000e+00 - total_loss: 0.8080 - val_root_mean_squared_error: 0.9066 - val_loss: 0.8069 - val_regularization_loss: 0.0000e+00 - val_total_loss: 0.8069\n",
      "Epoch 67/100\n",
      "10/10 [==============================] - 1s 121ms/step - root_mean_squared_error: 0.8943 - loss: 0.8001 - regularization_loss: 0.0000e+00 - total_loss: 0.8001 - val_root_mean_squared_error: 0.9004 - val_loss: 0.7775 - val_regularization_loss: 0.0000e+00 - val_total_loss: 0.7775\n",
      "Epoch 68/100\n",
      "10/10 [==============================] - 1s 125ms/step - root_mean_squared_error: 0.8892 - loss: 0.7911 - regularization_loss: 0.0000e+00 - total_loss: 0.7911 - val_root_mean_squared_error: 0.8954 - val_loss: 0.7533 - val_regularization_loss: 0.0000e+00 - val_total_loss: 0.7533\n",
      "Epoch 69/100\n",
      "10/10 [==============================] - 1s 123ms/step - root_mean_squared_error: 0.8857 - loss: 0.7850 - regularization_loss: 0.0000e+00 - total_loss: 0.7850 - val_root_mean_squared_error: 0.8926 - val_loss: 0.7429 - val_regularization_loss: 0.0000e+00 - val_total_loss: 0.7429\n",
      "Epoch 70/100\n",
      "10/10 [==============================] - 1s 121ms/step - root_mean_squared_error: 0.8837 - loss: 0.7817 - regularization_loss: 0.0000e+00 - total_loss: 0.7817 - val_root_mean_squared_error: 0.8919 - val_loss: 0.7472 - val_regularization_loss: 0.0000e+00 - val_total_loss: 0.7472\n",
      "Epoch 71/100\n",
      "10/10 [==============================] - 1s 131ms/step - root_mean_squared_error: 0.8836 - loss: 0.7816 - regularization_loss: 0.0000e+00 - total_loss: 0.7816 - val_root_mean_squared_error: 0.8938 - val_loss: 0.7704 - val_regularization_loss: 0.0000e+00 - val_total_loss: 0.7704\n",
      "Epoch 72/100\n",
      "10/10 [==============================] - 1s 125ms/step - root_mean_squared_error: 0.8858 - loss: 0.7859 - regularization_loss: 0.0000e+00 - total_loss: 0.7859 - val_root_mean_squared_error: 0.8986 - val_loss: 0.8082 - val_regularization_loss: 0.0000e+00 - val_total_loss: 0.8082\n",
      "Epoch 73/100\n",
      "10/10 [==============================] - 1s 125ms/step - root_mean_squared_error: 0.8892 - loss: 0.7917 - regularization_loss: 0.0000e+00 - total_loss: 0.7917 - val_root_mean_squared_error: 0.9018 - val_loss: 0.8323 - val_regularization_loss: 0.0000e+00 - val_total_loss: 0.8323\n",
      "Epoch 74/100\n",
      "10/10 [==============================] - 1s 121ms/step - root_mean_squared_error: 0.8891 - loss: 0.7910 - regularization_loss: 0.0000e+00 - total_loss: 0.7910 - val_root_mean_squared_error: 0.8978 - val_loss: 0.8157 - val_regularization_loss: 0.0000e+00 - val_total_loss: 0.8157\n",
      "Epoch 75/100\n",
      "10/10 [==============================] - 1s 122ms/step - root_mean_squared_error: 0.8835 - loss: 0.7808 - regularization_loss: 0.0000e+00 - total_loss: 0.7808 - val_root_mean_squared_error: 0.8902 - val_loss: 0.7745 - val_regularization_loss: 0.0000e+00 - val_total_loss: 0.7745\n",
      "Epoch 76/100\n",
      "10/10 [==============================] - 1s 117ms/step - root_mean_squared_error: 0.8780 - loss: 0.7713 - regularization_loss: 0.0000e+00 - total_loss: 0.7713 - val_root_mean_squared_error: 0.8852 - val_loss: 0.7451 - val_regularization_loss: 0.0000e+00 - val_total_loss: 0.7451\n",
      "Epoch 77/100\n",
      "10/10 [==============================] - 1s 120ms/step - root_mean_squared_error: 0.8747 - loss: 0.7657 - regularization_loss: 0.0000e+00 - total_loss: 0.7657 - val_root_mean_squared_error: 0.8829 - val_loss: 0.7351 - val_regularization_loss: 0.0000e+00 - val_total_loss: 0.7351\n",
      "Epoch 78/100\n",
      "10/10 [==============================] - 1s 118ms/step - root_mean_squared_error: 0.8731 - loss: 0.7630 - regularization_loss: 0.0000e+00 - total_loss: 0.7630 - val_root_mean_squared_error: 0.8821 - val_loss: 0.7372 - val_regularization_loss: 0.0000e+00 - val_total_loss: 0.7372\n",
      "Epoch 79/100\n",
      "10/10 [==============================] - 1s 121ms/step - root_mean_squared_error: 0.8725 - loss: 0.7621 - regularization_loss: 0.0000e+00 - total_loss: 0.7621 - val_root_mean_squared_error: 0.8827 - val_loss: 0.7512 - val_regularization_loss: 0.0000e+00 - val_total_loss: 0.7512\n",
      "Epoch 80/100\n",
      "10/10 [==============================] - 1s 117ms/step - root_mean_squared_error: 0.8732 - loss: 0.7635 - regularization_loss: 0.0000e+00 - total_loss: 0.7635 - val_root_mean_squared_error: 0.8852 - val_loss: 0.7789 - val_regularization_loss: 0.0000e+00 - val_total_loss: 0.7789\n",
      "Epoch 81/100\n",
      "10/10 [==============================] - 1s 124ms/step - root_mean_squared_error: 0.8757 - loss: 0.7681 - regularization_loss: 0.0000e+00 - total_loss: 0.7681 - val_root_mean_squared_error: 0.8898 - val_loss: 0.8170 - val_regularization_loss: 0.0000e+00 - val_total_loss: 0.8170\n",
      "Epoch 82/100\n",
      "10/10 [==============================] - 1s 120ms/step - root_mean_squared_error: 0.8788 - loss: 0.7733 - regularization_loss: 0.0000e+00 - total_loss: 0.7733 - val_root_mean_squared_error: 0.8928 - val_loss: 0.8412 - val_regularization_loss: 0.0000e+00 - val_total_loss: 0.8412\n",
      "Epoch 83/100\n",
      "10/10 [==============================] - 1s 120ms/step - root_mean_squared_error: 0.8784 - loss: 0.7722 - regularization_loss: 0.0000e+00 - total_loss: 0.7722 - val_root_mean_squared_error: 0.8885 - val_loss: 0.8227 - val_regularization_loss: 0.0000e+00 - val_total_loss: 0.8227\n",
      "Epoch 84/100\n",
      "10/10 [==============================] - 1s 119ms/step - root_mean_squared_error: 0.8734 - loss: 0.7634 - regularization_loss: 0.0000e+00 - total_loss: 0.7634 - val_root_mean_squared_error: 0.8825 - val_loss: 0.7908 - val_regularization_loss: 0.0000e+00 - val_total_loss: 0.7908\n",
      "Epoch 85/100\n",
      "10/10 [==============================] - 1s 117ms/step - root_mean_squared_error: 0.8689 - loss: 0.7556 - regularization_loss: 0.0000e+00 - total_loss: 0.7556 - val_root_mean_squared_error: 0.8785 - val_loss: 0.7683 - val_regularization_loss: 0.0000e+00 - val_total_loss: 0.7683\n",
      "Epoch 86/100\n",
      "10/10 [==============================] - 1s 120ms/step - root_mean_squared_error: 0.8662 - loss: 0.7509 - regularization_loss: 0.0000e+00 - total_loss: 0.7509 - val_root_mean_squared_error: 0.8764 - val_loss: 0.7590 - val_regularization_loss: 0.0000e+00 - val_total_loss: 0.7590\n",
      "Epoch 87/100\n",
      "10/10 [==============================] - 1s 119ms/step - root_mean_squared_error: 0.8644 - loss: 0.7479 - regularization_loss: 0.0000e+00 - total_loss: 0.7479 - val_root_mean_squared_error: 0.8749 - val_loss: 0.7540 - val_regularization_loss: 0.0000e+00 - val_total_loss: 0.7540\n",
      "Epoch 88/100\n",
      "10/10 [==============================] - 1s 117ms/step - root_mean_squared_error: 0.8631 - loss: 0.7457 - regularization_loss: 0.0000e+00 - total_loss: 0.7457 - val_root_mean_squared_error: 0.8739 - val_loss: 0.7535 - val_regularization_loss: 0.0000e+00 - val_total_loss: 0.7535\n",
      "Epoch 89/100\n",
      "10/10 [==============================] - 1s 117ms/step - root_mean_squared_error: 0.8621 - loss: 0.7440 - regularization_loss: 0.0000e+00 - total_loss: 0.7440 - val_root_mean_squared_error: 0.8733 - val_loss: 0.7568 - val_regularization_loss: 0.0000e+00 - val_total_loss: 0.7568\n",
      "Epoch 90/100\n",
      "10/10 [==============================] - 1s 124ms/step - root_mean_squared_error: 0.8617 - loss: 0.7435 - regularization_loss: 0.0000e+00 - total_loss: 0.7435 - val_root_mean_squared_error: 0.8741 - val_loss: 0.7723 - val_regularization_loss: 0.0000e+00 - val_total_loss: 0.7723\n",
      "Epoch 91/100\n",
      "10/10 [==============================] - 1s 121ms/step - root_mean_squared_error: 0.8625 - loss: 0.7450 - regularization_loss: 0.0000e+00 - total_loss: 0.7450 - val_root_mean_squared_error: 0.8765 - val_loss: 0.7971 - val_regularization_loss: 0.0000e+00 - val_total_loss: 0.7971\n",
      "Epoch 92/100\n",
      "10/10 [==============================] - 1s 119ms/step - root_mean_squared_error: 0.8649 - loss: 0.7493 - regularization_loss: 0.0000e+00 - total_loss: 0.7493 - val_root_mean_squared_error: 0.8808 - val_loss: 0.8318 - val_regularization_loss: 0.0000e+00 - val_total_loss: 0.8318\n",
      "Epoch 93/100\n",
      "10/10 [==============================] - 1s 117ms/step - root_mean_squared_error: 0.8676 - loss: 0.7540 - regularization_loss: 0.0000e+00 - total_loss: 0.7540 - val_root_mean_squared_error: 0.8835 - val_loss: 0.8525 - val_regularization_loss: 0.0000e+00 - val_total_loss: 0.8525\n",
      "Epoch 94/100\n",
      "10/10 [==============================] - 1s 119ms/step - root_mean_squared_error: 0.8679 - loss: 0.7542 - regularization_loss: 0.0000e+00 - total_loss: 0.7542 - val_root_mean_squared_error: 0.8816 - val_loss: 0.8446 - val_regularization_loss: 0.0000e+00 - val_total_loss: 0.8446\n",
      "Epoch 95/100\n",
      "10/10 [==============================] - 1s 125ms/step - root_mean_squared_error: 0.8644 - loss: 0.7478 - regularization_loss: 0.0000e+00 - total_loss: 0.7478 - val_root_mean_squared_error: 0.8764 - val_loss: 0.8170 - val_regularization_loss: 0.0000e+00 - val_total_loss: 0.8170\n",
      "Epoch 96/100\n",
      "10/10 [==============================] - 1s 118ms/step - root_mean_squared_error: 0.8604 - loss: 0.7408 - regularization_loss: 0.0000e+00 - total_loss: 0.7408 - val_root_mean_squared_error: 0.8721 - val_loss: 0.7909 - val_regularization_loss: 0.0000e+00 - val_total_loss: 0.7909\n",
      "Epoch 97/100\n",
      "10/10 [==============================] - 1s 117ms/step - root_mean_squared_error: 0.8574 - loss: 0.7357 - regularization_loss: 0.0000e+00 - total_loss: 0.7357 - val_root_mean_squared_error: 0.8695 - val_loss: 0.7760 - val_regularization_loss: 0.0000e+00 - val_total_loss: 0.7760\n",
      "Epoch 98/100\n",
      "10/10 [==============================] - 1s 121ms/step - root_mean_squared_error: 0.8554 - loss: 0.7324 - regularization_loss: 0.0000e+00 - total_loss: 0.7324 - val_root_mean_squared_error: 0.8678 - val_loss: 0.7674 - val_regularization_loss: 0.0000e+00 - val_total_loss: 0.7674\n",
      "Epoch 99/100\n",
      "10/10 [==============================] - 1s 118ms/step - root_mean_squared_error: 0.8540 - loss: 0.7301 - regularization_loss: 0.0000e+00 - total_loss: 0.7301 - val_root_mean_squared_error: 0.8669 - val_loss: 0.7649 - val_regularization_loss: 0.0000e+00 - val_total_loss: 0.7649\n",
      "Epoch 100/100\n",
      "10/10 [==============================] - 1s 121ms/step - root_mean_squared_error: 0.8531 - loss: 0.7286 - regularization_loss: 0.0000e+00 - total_loss: 0.7286 - val_root_mean_squared_error: 0.8662 - val_loss: 0.7650 - val_regularization_loss: 0.0000e+00 - val_total_loss: 0.7650\n"
     ]
    },
    {
     "data": {
      "text/plain": [
       "<keras.src.callbacks.History at 0x1775a2680>"
      ]
     },
     "execution_count": 41,
     "metadata": {},
     "output_type": "execute_result"
    }
   ],
   "source": [
    "model.fit(cached_train,validation_data=cached_test, epochs=100)"
   ]
  },
  {
   "cell_type": "code",
   "execution_count": 42,
   "metadata": {},
   "outputs": [
    {
     "name": "stdout",
     "output_type": "stream",
     "text": [
      "6/6 [==============================] - 0s 29ms/step - root_mean_squared_error: 0.8662 - loss: 0.7545 - regularization_loss: 0.0000e+00 - total_loss: 0.7545\n"
     ]
    },
    {
     "data": {
      "text/plain": [
       "{'root_mean_squared_error': 0.8661990761756897,\n",
       " 'loss': 0.7650209665298462,\n",
       " 'regularization_loss': 0,\n",
       " 'total_loss': 0.7650209665298462}"
      ]
     },
     "execution_count": 42,
     "metadata": {},
     "output_type": "execute_result"
    }
   ],
   "source": [
    "model.evaluate(cached_test, return_dict=True)"
   ]
  },
  {
   "cell_type": "code",
   "execution_count": null,
   "metadata": {},
   "outputs": [],
   "source": []
  }
 ],
 "metadata": {
  "kernelspec": {
   "display_name": "adobe_case_study",
   "language": "python",
   "name": "python3"
  },
  "language_info": {
   "codemirror_mode": {
    "name": "ipython",
    "version": 3
   },
   "file_extension": ".py",
   "mimetype": "text/x-python",
   "name": "python",
   "nbconvert_exporter": "python",
   "pygments_lexer": "ipython3",
   "version": "3.10.13"
  }
 },
 "nbformat": 4,
 "nbformat_minor": 2
}
