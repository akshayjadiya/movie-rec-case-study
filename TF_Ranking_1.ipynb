{
 "cells": [
  {
   "cell_type": "code",
   "execution_count": 1,
   "metadata": {},
   "outputs": [],
   "source": [
    "import pandas as pd\n",
    "import numpy as np\n",
    "\n",
    "# Make numpy values easier to read.\n",
    "np.set_printoptions(precision=3, suppress=True)\n",
    "\n",
    "import tensorflow as tf\n",
    "from tensorflow.keras import layers"
   ]
  },
  {
   "cell_type": "markdown",
   "metadata": {},
   "source": [
    "## Create master DB for later use"
   ]
  },
  {
   "cell_type": "code",
   "execution_count": 2,
   "metadata": {},
   "outputs": [],
   "source": [
    "import os\n",
    "path = os.getcwd()\n",
    "\n",
    "ratings_df = pd.read_csv(os.path.join(path,'ratings.csv'))\n",
    "\n",
    "movies_df = pd.read_csv(os.path.join(path,'movies.csv'))\n",
    "\n",
    "tmdb_df = pd.read_csv(os.path.join(path,'tmdb_data_combine.csv'))\n",
    "\n",
    "links_df = pd.read_csv(os.path.join(path,'links.csv'))"
   ]
  },
  {
   "cell_type": "code",
   "execution_count": 3,
   "metadata": {},
   "outputs": [
    {
     "data": {
      "text/html": [
       "<div>\n",
       "<style scoped>\n",
       "    .dataframe tbody tr th:only-of-type {\n",
       "        vertical-align: middle;\n",
       "    }\n",
       "\n",
       "    .dataframe tbody tr th {\n",
       "        vertical-align: top;\n",
       "    }\n",
       "\n",
       "    .dataframe thead th {\n",
       "        text-align: right;\n",
       "    }\n",
       "</style>\n",
       "<table border=\"1\" class=\"dataframe\">\n",
       "  <thead>\n",
       "    <tr style=\"text-align: right;\">\n",
       "      <th></th>\n",
       "      <th>movieId</th>\n",
       "      <th>imdbId</th>\n",
       "      <th>tmdbId</th>\n",
       "    </tr>\n",
       "  </thead>\n",
       "  <tbody>\n",
       "    <tr>\n",
       "      <th>0</th>\n",
       "      <td>1</td>\n",
       "      <td>114709</td>\n",
       "      <td>862.0</td>\n",
       "    </tr>\n",
       "    <tr>\n",
       "      <th>1</th>\n",
       "      <td>2</td>\n",
       "      <td>113497</td>\n",
       "      <td>8844.0</td>\n",
       "    </tr>\n",
       "    <tr>\n",
       "      <th>2</th>\n",
       "      <td>3</td>\n",
       "      <td>113228</td>\n",
       "      <td>15602.0</td>\n",
       "    </tr>\n",
       "    <tr>\n",
       "      <th>3</th>\n",
       "      <td>4</td>\n",
       "      <td>114885</td>\n",
       "      <td>31357.0</td>\n",
       "    </tr>\n",
       "    <tr>\n",
       "      <th>4</th>\n",
       "      <td>5</td>\n",
       "      <td>113041</td>\n",
       "      <td>11862.0</td>\n",
       "    </tr>\n",
       "  </tbody>\n",
       "</table>\n",
       "</div>"
      ],
      "text/plain": [
       "   movieId  imdbId   tmdbId\n",
       "0        1  114709    862.0\n",
       "1        2  113497   8844.0\n",
       "2        3  113228  15602.0\n",
       "3        4  114885  31357.0\n",
       "4        5  113041  11862.0"
      ]
     },
     "execution_count": 3,
     "metadata": {},
     "output_type": "execute_result"
    }
   ],
   "source": [
    "links_df.head()"
   ]
  },
  {
   "cell_type": "code",
   "execution_count": 4,
   "metadata": {},
   "outputs": [],
   "source": [
    "links_df = links_df.dropna(axis=0)"
   ]
  },
  {
   "cell_type": "code",
   "execution_count": 5,
   "metadata": {},
   "outputs": [],
   "source": [
    "links_df['tmdbId'] = links_df['tmdbId'].astype('int')"
   ]
  },
  {
   "cell_type": "code",
   "execution_count": 6,
   "metadata": {},
   "outputs": [
    {
     "data": {
      "text/html": [
       "<div>\n",
       "<style scoped>\n",
       "    .dataframe tbody tr th:only-of-type {\n",
       "        vertical-align: middle;\n",
       "    }\n",
       "\n",
       "    .dataframe tbody tr th {\n",
       "        vertical-align: top;\n",
       "    }\n",
       "\n",
       "    .dataframe thead th {\n",
       "        text-align: right;\n",
       "    }\n",
       "</style>\n",
       "<table border=\"1\" class=\"dataframe\">\n",
       "  <thead>\n",
       "    <tr style=\"text-align: right;\">\n",
       "      <th></th>\n",
       "      <th>userId</th>\n",
       "      <th>movieId</th>\n",
       "      <th>rating</th>\n",
       "      <th>timestamp</th>\n",
       "    </tr>\n",
       "  </thead>\n",
       "  <tbody>\n",
       "    <tr>\n",
       "      <th>0</th>\n",
       "      <td>1</td>\n",
       "      <td>1</td>\n",
       "      <td>4.0</td>\n",
       "      <td>964982703</td>\n",
       "    </tr>\n",
       "    <tr>\n",
       "      <th>1</th>\n",
       "      <td>1</td>\n",
       "      <td>3</td>\n",
       "      <td>4.0</td>\n",
       "      <td>964981247</td>\n",
       "    </tr>\n",
       "    <tr>\n",
       "      <th>2</th>\n",
       "      <td>1</td>\n",
       "      <td>6</td>\n",
       "      <td>4.0</td>\n",
       "      <td>964982224</td>\n",
       "    </tr>\n",
       "    <tr>\n",
       "      <th>3</th>\n",
       "      <td>1</td>\n",
       "      <td>47</td>\n",
       "      <td>5.0</td>\n",
       "      <td>964983815</td>\n",
       "    </tr>\n",
       "    <tr>\n",
       "      <th>4</th>\n",
       "      <td>1</td>\n",
       "      <td>50</td>\n",
       "      <td>5.0</td>\n",
       "      <td>964982931</td>\n",
       "    </tr>\n",
       "  </tbody>\n",
       "</table>\n",
       "</div>"
      ],
      "text/plain": [
       "   userId  movieId  rating  timestamp\n",
       "0       1        1     4.0  964982703\n",
       "1       1        3     4.0  964981247\n",
       "2       1        6     4.0  964982224\n",
       "3       1       47     5.0  964983815\n",
       "4       1       50     5.0  964982931"
      ]
     },
     "execution_count": 6,
     "metadata": {},
     "output_type": "execute_result"
    }
   ],
   "source": [
    "ratings_df.head()"
   ]
  },
  {
   "cell_type": "code",
   "execution_count": 7,
   "metadata": {},
   "outputs": [
    {
     "data": {
      "text/html": [
       "<div>\n",
       "<style scoped>\n",
       "    .dataframe tbody tr th:only-of-type {\n",
       "        vertical-align: middle;\n",
       "    }\n",
       "\n",
       "    .dataframe tbody tr th {\n",
       "        vertical-align: top;\n",
       "    }\n",
       "\n",
       "    .dataframe thead th {\n",
       "        text-align: right;\n",
       "    }\n",
       "</style>\n",
       "<table border=\"1\" class=\"dataframe\">\n",
       "  <thead>\n",
       "    <tr style=\"text-align: right;\">\n",
       "      <th></th>\n",
       "      <th>movieId</th>\n",
       "      <th>title</th>\n",
       "      <th>genres</th>\n",
       "    </tr>\n",
       "  </thead>\n",
       "  <tbody>\n",
       "    <tr>\n",
       "      <th>0</th>\n",
       "      <td>1</td>\n",
       "      <td>Toy Story (1995)</td>\n",
       "      <td>Adventure|Animation|Children|Comedy|Fantasy</td>\n",
       "    </tr>\n",
       "    <tr>\n",
       "      <th>1</th>\n",
       "      <td>2</td>\n",
       "      <td>Jumanji (1995)</td>\n",
       "      <td>Adventure|Children|Fantasy</td>\n",
       "    </tr>\n",
       "    <tr>\n",
       "      <th>2</th>\n",
       "      <td>3</td>\n",
       "      <td>Grumpier Old Men (1995)</td>\n",
       "      <td>Comedy|Romance</td>\n",
       "    </tr>\n",
       "    <tr>\n",
       "      <th>3</th>\n",
       "      <td>4</td>\n",
       "      <td>Waiting to Exhale (1995)</td>\n",
       "      <td>Comedy|Drama|Romance</td>\n",
       "    </tr>\n",
       "    <tr>\n",
       "      <th>4</th>\n",
       "      <td>5</td>\n",
       "      <td>Father of the Bride Part II (1995)</td>\n",
       "      <td>Comedy</td>\n",
       "    </tr>\n",
       "  </tbody>\n",
       "</table>\n",
       "</div>"
      ],
      "text/plain": [
       "   movieId                               title  \\\n",
       "0        1                    Toy Story (1995)   \n",
       "1        2                      Jumanji (1995)   \n",
       "2        3             Grumpier Old Men (1995)   \n",
       "3        4            Waiting to Exhale (1995)   \n",
       "4        5  Father of the Bride Part II (1995)   \n",
       "\n",
       "                                        genres  \n",
       "0  Adventure|Animation|Children|Comedy|Fantasy  \n",
       "1                   Adventure|Children|Fantasy  \n",
       "2                               Comedy|Romance  \n",
       "3                         Comedy|Drama|Romance  \n",
       "4                                       Comedy  "
      ]
     },
     "execution_count": 7,
     "metadata": {},
     "output_type": "execute_result"
    }
   ],
   "source": [
    "movies_df.head()"
   ]
  },
  {
   "cell_type": "code",
   "execution_count": 8,
   "metadata": {},
   "outputs": [],
   "source": [
    "ratings_df = ratings_df.merge(links_df , how='left' , on='movieId')"
   ]
  },
  {
   "cell_type": "code",
   "execution_count": 9,
   "metadata": {},
   "outputs": [
    {
     "data": {
      "text/plain": [
       "userId        0\n",
       "movieId       0\n",
       "rating        0\n",
       "timestamp     0\n",
       "imdbId       13\n",
       "tmdbId       13\n",
       "dtype: int64"
      ]
     },
     "execution_count": 9,
     "metadata": {},
     "output_type": "execute_result"
    }
   ],
   "source": [
    "ratings_df.isna().sum()"
   ]
  },
  {
   "cell_type": "code",
   "execution_count": 10,
   "metadata": {},
   "outputs": [
    {
     "data": {
      "text/plain": [
       "100836"
      ]
     },
     "execution_count": 10,
     "metadata": {},
     "output_type": "execute_result"
    }
   ],
   "source": [
    "len(ratings_df)"
   ]
  },
  {
   "cell_type": "code",
   "execution_count": 11,
   "metadata": {},
   "outputs": [
    {
     "data": {
      "text/plain": [
       "100823"
      ]
     },
     "execution_count": 11,
     "metadata": {},
     "output_type": "execute_result"
    }
   ],
   "source": [
    "ratings_df = ratings_df.dropna(axis=0)\n",
    "len(ratings_df)"
   ]
  },
  {
   "cell_type": "code",
   "execution_count": 12,
   "metadata": {},
   "outputs": [
    {
     "data": {
      "text/html": [
       "<div>\n",
       "<style scoped>\n",
       "    .dataframe tbody tr th:only-of-type {\n",
       "        vertical-align: middle;\n",
       "    }\n",
       "\n",
       "    .dataframe tbody tr th {\n",
       "        vertical-align: top;\n",
       "    }\n",
       "\n",
       "    .dataframe thead th {\n",
       "        text-align: right;\n",
       "    }\n",
       "</style>\n",
       "<table border=\"1\" class=\"dataframe\">\n",
       "  <thead>\n",
       "    <tr style=\"text-align: right;\">\n",
       "      <th></th>\n",
       "      <th>userId</th>\n",
       "      <th>movieId</th>\n",
       "      <th>rating</th>\n",
       "      <th>timestamp</th>\n",
       "      <th>imdbId</th>\n",
       "      <th>tmdbId</th>\n",
       "    </tr>\n",
       "  </thead>\n",
       "  <tbody>\n",
       "    <tr>\n",
       "      <th>0</th>\n",
       "      <td>1</td>\n",
       "      <td>1</td>\n",
       "      <td>4.0</td>\n",
       "      <td>964982703</td>\n",
       "      <td>114709</td>\n",
       "      <td>862</td>\n",
       "    </tr>\n",
       "    <tr>\n",
       "      <th>1</th>\n",
       "      <td>1</td>\n",
       "      <td>3</td>\n",
       "      <td>4.0</td>\n",
       "      <td>964981247</td>\n",
       "      <td>113228</td>\n",
       "      <td>15602</td>\n",
       "    </tr>\n",
       "    <tr>\n",
       "      <th>2</th>\n",
       "      <td>1</td>\n",
       "      <td>6</td>\n",
       "      <td>4.0</td>\n",
       "      <td>964982224</td>\n",
       "      <td>113277</td>\n",
       "      <td>949</td>\n",
       "    </tr>\n",
       "    <tr>\n",
       "      <th>3</th>\n",
       "      <td>1</td>\n",
       "      <td>47</td>\n",
       "      <td>5.0</td>\n",
       "      <td>964983815</td>\n",
       "      <td>114369</td>\n",
       "      <td>807</td>\n",
       "    </tr>\n",
       "    <tr>\n",
       "      <th>4</th>\n",
       "      <td>1</td>\n",
       "      <td>50</td>\n",
       "      <td>5.0</td>\n",
       "      <td>964982931</td>\n",
       "      <td>114814</td>\n",
       "      <td>629</td>\n",
       "    </tr>\n",
       "  </tbody>\n",
       "</table>\n",
       "</div>"
      ],
      "text/plain": [
       "   userId  movieId  rating  timestamp  imdbId  tmdbId\n",
       "0       1        1     4.0  964982703  114709     862\n",
       "1       1        3     4.0  964981247  113228   15602\n",
       "2       1        6     4.0  964982224  113277     949\n",
       "3       1       47     5.0  964983815  114369     807\n",
       "4       1       50     5.0  964982931  114814     629"
      ]
     },
     "execution_count": 12,
     "metadata": {},
     "output_type": "execute_result"
    }
   ],
   "source": [
    "ratings_df['imdbId'] = ratings_df['imdbId'].astype('int')\n",
    "ratings_df['tmdbId'] = ratings_df['tmdbId'].astype('int')\n",
    "ratings_df.head()"
   ]
  },
  {
   "cell_type": "code",
   "execution_count": 13,
   "metadata": {},
   "outputs": [
    {
     "data": {
      "text/html": [
       "<div>\n",
       "<style scoped>\n",
       "    .dataframe tbody tr th:only-of-type {\n",
       "        vertical-align: middle;\n",
       "    }\n",
       "\n",
       "    .dataframe tbody tr th {\n",
       "        vertical-align: top;\n",
       "    }\n",
       "\n",
       "    .dataframe thead th {\n",
       "        text-align: right;\n",
       "    }\n",
       "</style>\n",
       "<table border=\"1\" class=\"dataframe\">\n",
       "  <thead>\n",
       "    <tr style=\"text-align: right;\">\n",
       "      <th></th>\n",
       "      <th>overview</th>\n",
       "      <th>popularity</th>\n",
       "      <th>original_title</th>\n",
       "      <th>runtime</th>\n",
       "      <th>release_date</th>\n",
       "      <th>vote_average</th>\n",
       "      <th>vote_count</th>\n",
       "      <th>status</th>\n",
       "      <th>tagline</th>\n",
       "      <th>spoken_languages</th>\n",
       "      <th>cast</th>\n",
       "      <th>id</th>\n",
       "    </tr>\n",
       "  </thead>\n",
       "  <tbody>\n",
       "    <tr>\n",
       "      <th>0</th>\n",
       "      <td>The second \"visual album\" (a collection of sho...</td>\n",
       "      <td>8.738</td>\n",
       "      <td>Lemonade</td>\n",
       "      <td>65</td>\n",
       "      <td>2016-04-23</td>\n",
       "      <td>8.497</td>\n",
       "      <td>147</td>\n",
       "      <td>Released</td>\n",
       "      <td>NaN</td>\n",
       "      <td>en</td>\n",
       "      <td>Beyoncé|Jay-Z|Serena Williams|Zendaya|Quvenzha...</td>\n",
       "      <td>394269</td>\n",
       "    </tr>\n",
       "    <tr>\n",
       "      <th>1</th>\n",
       "      <td>Set in 1929, a political boss and his advisor ...</td>\n",
       "      <td>17.518</td>\n",
       "      <td>Miller's Crossing</td>\n",
       "      <td>115</td>\n",
       "      <td>1990-09-21</td>\n",
       "      <td>7.455</td>\n",
       "      <td>1496</td>\n",
       "      <td>Released</td>\n",
       "      <td>Up is down, black is white, and nothing is wha...</td>\n",
       "      <td>en|ga|it|yi</td>\n",
       "      <td>Gabriel Byrne|Albert Finney|Jon Polito|Marcia ...</td>\n",
       "      <td>379</td>\n",
       "    </tr>\n",
       "    <tr>\n",
       "      <th>2</th>\n",
       "      <td>A student's premonition of a deadly rollercoas...</td>\n",
       "      <td>40.900</td>\n",
       "      <td>Final Destination 3</td>\n",
       "      <td>93</td>\n",
       "      <td>2006-02-09</td>\n",
       "      <td>6.081</td>\n",
       "      <td>3549</td>\n",
       "      <td>Released</td>\n",
       "      <td>This ride will be the death of you.</td>\n",
       "      <td>en</td>\n",
       "      <td>Mary Elizabeth Winstead|Ryan Merriman|Kris Lem...</td>\n",
       "      <td>9286</td>\n",
       "    </tr>\n",
       "    <tr>\n",
       "      <th>3</th>\n",
       "      <td>On Christmas Eve, three homeless people living...</td>\n",
       "      <td>21.095</td>\n",
       "      <td>東京ゴッドファーザーズ</td>\n",
       "      <td>93</td>\n",
       "      <td>2003-12-29</td>\n",
       "      <td>7.895</td>\n",
       "      <td>1076</td>\n",
       "      <td>Released</td>\n",
       "      <td>Meet the ultimate dysfunctional family.</td>\n",
       "      <td>en|ja|es</td>\n",
       "      <td>Aya Okamoto|Yoshiaki Umegaki|Tohru Emori|Satom...</td>\n",
       "      <td>13398</td>\n",
       "    </tr>\n",
       "    <tr>\n",
       "      <th>4</th>\n",
       "      <td>A wily old codger matches wits with the King o...</td>\n",
       "      <td>12.456</td>\n",
       "      <td>Darby O'Gill and the Little People</td>\n",
       "      <td>93</td>\n",
       "      <td>1959-06-24</td>\n",
       "      <td>6.700</td>\n",
       "      <td>130</td>\n",
       "      <td>Released</td>\n",
       "      <td>A touch O'Blarney... a heap O'Magic and A LOAD...</td>\n",
       "      <td>ga|en</td>\n",
       "      <td>Albert Sharpe|Janet Munro|Sean Connery|Jimmy O...</td>\n",
       "      <td>18887</td>\n",
       "    </tr>\n",
       "  </tbody>\n",
       "</table>\n",
       "</div>"
      ],
      "text/plain": [
       "                                            overview  popularity  \\\n",
       "0  The second \"visual album\" (a collection of sho...       8.738   \n",
       "1  Set in 1929, a political boss and his advisor ...      17.518   \n",
       "2  A student's premonition of a deadly rollercoas...      40.900   \n",
       "3  On Christmas Eve, three homeless people living...      21.095   \n",
       "4  A wily old codger matches wits with the King o...      12.456   \n",
       "\n",
       "                       original_title  runtime release_date  vote_average  \\\n",
       "0                            Lemonade       65   2016-04-23         8.497   \n",
       "1                   Miller's Crossing      115   1990-09-21         7.455   \n",
       "2                 Final Destination 3       93   2006-02-09         6.081   \n",
       "3                         東京ゴッドファーザーズ       93   2003-12-29         7.895   \n",
       "4  Darby O'Gill and the Little People       93   1959-06-24         6.700   \n",
       "\n",
       "   vote_count    status                                            tagline  \\\n",
       "0         147  Released                                                NaN   \n",
       "1        1496  Released  Up is down, black is white, and nothing is wha...   \n",
       "2        3549  Released                This ride will be the death of you.   \n",
       "3        1076  Released            Meet the ultimate dysfunctional family.   \n",
       "4         130  Released  A touch O'Blarney... a heap O'Magic and A LOAD...   \n",
       "\n",
       "  spoken_languages                                               cast      id  \n",
       "0               en  Beyoncé|Jay-Z|Serena Williams|Zendaya|Quvenzha...  394269  \n",
       "1      en|ga|it|yi  Gabriel Byrne|Albert Finney|Jon Polito|Marcia ...     379  \n",
       "2               en  Mary Elizabeth Winstead|Ryan Merriman|Kris Lem...    9286  \n",
       "3         en|ja|es  Aya Okamoto|Yoshiaki Umegaki|Tohru Emori|Satom...   13398  \n",
       "4            ga|en  Albert Sharpe|Janet Munro|Sean Connery|Jimmy O...   18887  "
      ]
     },
     "execution_count": 13,
     "metadata": {},
     "output_type": "execute_result"
    }
   ],
   "source": [
    "tmdb_df.head()"
   ]
  },
  {
   "cell_type": "code",
   "execution_count": 14,
   "metadata": {},
   "outputs": [
    {
     "data": {
      "text/plain": [
       "overview               9\n",
       "popularity             0\n",
       "original_title         0\n",
       "runtime                0\n",
       "release_date           0\n",
       "vote_average           0\n",
       "vote_count             0\n",
       "status                 0\n",
       "tagline             1570\n",
       "spoken_languages      33\n",
       "cast                  44\n",
       "id                     0\n",
       "dtype: int64"
      ]
     },
     "execution_count": 14,
     "metadata": {},
     "output_type": "execute_result"
    }
   ],
   "source": [
    "tmdb_df.isna().sum()"
   ]
  },
  {
   "cell_type": "code",
   "execution_count": 15,
   "metadata": {},
   "outputs": [
    {
     "data": {
      "text/plain": [
       "overview            0\n",
       "popularity          0\n",
       "original_title      0\n",
       "runtime             0\n",
       "release_date        0\n",
       "vote_average        0\n",
       "vote_count          0\n",
       "status              0\n",
       "tagline             0\n",
       "spoken_languages    0\n",
       "cast                0\n",
       "id                  0\n",
       "dtype: int64"
      ]
     },
     "execution_count": 15,
     "metadata": {},
     "output_type": "execute_result"
    }
   ],
   "source": [
    "tmdb_df = tmdb_df.fillna(\"notavailable\")\n",
    "tmdb_df.isna().sum()"
   ]
  },
  {
   "cell_type": "code",
   "execution_count": 16,
   "metadata": {},
   "outputs": [],
   "source": [
    "tmdb_df_categorical = tmdb_df[['overview','cast','id','popularity','runtime','vote_average']].copy()"
   ]
  },
  {
   "cell_type": "code",
   "execution_count": 17,
   "metadata": {},
   "outputs": [],
   "source": [
    "# tmdb_df_numeric= tmdb_df[['popularity','runtime','vote_average','id']].copy()\n"
   ]
  },
  {
   "cell_type": "code",
   "execution_count": 18,
   "metadata": {},
   "outputs": [],
   "source": [
    "ratings_df = ratings_df.merge(tmdb_df_categorical , how='left' , left_on='tmdbId' , right_on='id')"
   ]
  },
  {
   "cell_type": "code",
   "execution_count": 19,
   "metadata": {},
   "outputs": [
    {
     "data": {
      "text/html": [
       "<div>\n",
       "<style scoped>\n",
       "    .dataframe tbody tr th:only-of-type {\n",
       "        vertical-align: middle;\n",
       "    }\n",
       "\n",
       "    .dataframe tbody tr th {\n",
       "        vertical-align: top;\n",
       "    }\n",
       "\n",
       "    .dataframe thead th {\n",
       "        text-align: right;\n",
       "    }\n",
       "</style>\n",
       "<table border=\"1\" class=\"dataframe\">\n",
       "  <thead>\n",
       "    <tr style=\"text-align: right;\">\n",
       "      <th></th>\n",
       "      <th>userId</th>\n",
       "      <th>movieId</th>\n",
       "      <th>rating</th>\n",
       "      <th>timestamp</th>\n",
       "      <th>imdbId</th>\n",
       "      <th>tmdbId</th>\n",
       "      <th>overview</th>\n",
       "      <th>cast</th>\n",
       "      <th>id</th>\n",
       "      <th>popularity</th>\n",
       "      <th>runtime</th>\n",
       "      <th>vote_average</th>\n",
       "    </tr>\n",
       "  </thead>\n",
       "  <tbody>\n",
       "    <tr>\n",
       "      <th>0</th>\n",
       "      <td>1</td>\n",
       "      <td>1</td>\n",
       "      <td>4.0</td>\n",
       "      <td>964982703</td>\n",
       "      <td>114709</td>\n",
       "      <td>862</td>\n",
       "      <td>Led by Woody, Andy's toys live happily in his ...</td>\n",
       "      <td>Tom Hanks|Tim Allen|Don Rickles|Jim Varney|Wal...</td>\n",
       "      <td>862.0</td>\n",
       "      <td>100.954</td>\n",
       "      <td>81.0</td>\n",
       "      <td>7.970</td>\n",
       "    </tr>\n",
       "    <tr>\n",
       "      <th>1</th>\n",
       "      <td>1</td>\n",
       "      <td>3</td>\n",
       "      <td>4.0</td>\n",
       "      <td>964981247</td>\n",
       "      <td>113228</td>\n",
       "      <td>15602</td>\n",
       "      <td>A family wedding reignites the ancient feud be...</td>\n",
       "      <td>Walter Matthau|Jack Lemmon|Ann-Margret|Sophia ...</td>\n",
       "      <td>15602.0</td>\n",
       "      <td>12.686</td>\n",
       "      <td>101.0</td>\n",
       "      <td>6.494</td>\n",
       "    </tr>\n",
       "    <tr>\n",
       "      <th>2</th>\n",
       "      <td>1</td>\n",
       "      <td>6</td>\n",
       "      <td>4.0</td>\n",
       "      <td>964982224</td>\n",
       "      <td>113277</td>\n",
       "      <td>949</td>\n",
       "      <td>Obsessive master thief Neil McCauley leads a t...</td>\n",
       "      <td>Al Pacino|Robert De Niro|Val Kilmer|Jon Voight...</td>\n",
       "      <td>949.0</td>\n",
       "      <td>58.478</td>\n",
       "      <td>170.0</td>\n",
       "      <td>7.908</td>\n",
       "    </tr>\n",
       "    <tr>\n",
       "      <th>3</th>\n",
       "      <td>1</td>\n",
       "      <td>47</td>\n",
       "      <td>5.0</td>\n",
       "      <td>964983815</td>\n",
       "      <td>114369</td>\n",
       "      <td>807</td>\n",
       "      <td>Two homicide detectives are on a desperate hun...</td>\n",
       "      <td>Morgan Freeman|Brad Pitt|Gwyneth Paltrow|Andre...</td>\n",
       "      <td>807.0</td>\n",
       "      <td>60.472</td>\n",
       "      <td>127.0</td>\n",
       "      <td>8.369</td>\n",
       "    </tr>\n",
       "    <tr>\n",
       "      <th>4</th>\n",
       "      <td>1</td>\n",
       "      <td>50</td>\n",
       "      <td>5.0</td>\n",
       "      <td>964982931</td>\n",
       "      <td>114814</td>\n",
       "      <td>629</td>\n",
       "      <td>Held in an L.A. interrogation room, Verbal Kin...</td>\n",
       "      <td>Gabriel Byrne|Kevin Spacey|Stephen Baldwin|Kev...</td>\n",
       "      <td>629.0</td>\n",
       "      <td>39.571</td>\n",
       "      <td>106.0</td>\n",
       "      <td>8.193</td>\n",
       "    </tr>\n",
       "  </tbody>\n",
       "</table>\n",
       "</div>"
      ],
      "text/plain": [
       "   userId  movieId  rating  timestamp  imdbId  tmdbId  \\\n",
       "0       1        1     4.0  964982703  114709     862   \n",
       "1       1        3     4.0  964981247  113228   15602   \n",
       "2       1        6     4.0  964982224  113277     949   \n",
       "3       1       47     5.0  964983815  114369     807   \n",
       "4       1       50     5.0  964982931  114814     629   \n",
       "\n",
       "                                            overview  \\\n",
       "0  Led by Woody, Andy's toys live happily in his ...   \n",
       "1  A family wedding reignites the ancient feud be...   \n",
       "2  Obsessive master thief Neil McCauley leads a t...   \n",
       "3  Two homicide detectives are on a desperate hun...   \n",
       "4  Held in an L.A. interrogation room, Verbal Kin...   \n",
       "\n",
       "                                                cast       id  popularity  \\\n",
       "0  Tom Hanks|Tim Allen|Don Rickles|Jim Varney|Wal...    862.0     100.954   \n",
       "1  Walter Matthau|Jack Lemmon|Ann-Margret|Sophia ...  15602.0      12.686   \n",
       "2  Al Pacino|Robert De Niro|Val Kilmer|Jon Voight...    949.0      58.478   \n",
       "3  Morgan Freeman|Brad Pitt|Gwyneth Paltrow|Andre...    807.0      60.472   \n",
       "4  Gabriel Byrne|Kevin Spacey|Stephen Baldwin|Kev...    629.0      39.571   \n",
       "\n",
       "   runtime  vote_average  \n",
       "0     81.0         7.970  \n",
       "1    101.0         6.494  \n",
       "2    170.0         7.908  \n",
       "3    127.0         8.369  \n",
       "4    106.0         8.193  "
      ]
     },
     "execution_count": 19,
     "metadata": {},
     "output_type": "execute_result"
    }
   ],
   "source": [
    "ratings_df.head()"
   ]
  },
  {
   "cell_type": "code",
   "execution_count": 20,
   "metadata": {},
   "outputs": [
    {
     "data": {
      "text/plain": [
       "userId            0\n",
       "movieId           0\n",
       "rating            0\n",
       "timestamp         0\n",
       "imdbId            0\n",
       "tmdbId            0\n",
       "overview        315\n",
       "cast            315\n",
       "id              315\n",
       "popularity      315\n",
       "runtime         315\n",
       "vote_average    315\n",
       "dtype: int64"
      ]
     },
     "execution_count": 20,
     "metadata": {},
     "output_type": "execute_result"
    }
   ],
   "source": [
    "ratings_df.isna().sum()"
   ]
  },
  {
   "cell_type": "code",
   "execution_count": 21,
   "metadata": {},
   "outputs": [
    {
     "data": {
      "text/plain": [
       "userId          0\n",
       "movieId         0\n",
       "rating          0\n",
       "timestamp       0\n",
       "imdbId          0\n",
       "tmdbId          0\n",
       "overview        0\n",
       "cast            0\n",
       "id              0\n",
       "popularity      0\n",
       "runtime         0\n",
       "vote_average    0\n",
       "dtype: int64"
      ]
     },
     "execution_count": 21,
     "metadata": {},
     "output_type": "execute_result"
    }
   ],
   "source": [
    "ratings_df = ratings_df.dropna(axis=0)\n",
    "ratings_df.isna().sum()"
   ]
  },
  {
   "cell_type": "code",
   "execution_count": 22,
   "metadata": {},
   "outputs": [
    {
     "data": {
      "text/plain": [
       "100508"
      ]
     },
     "execution_count": 22,
     "metadata": {},
     "output_type": "execute_result"
    }
   ],
   "source": [
    "len(ratings_df)"
   ]
  },
  {
   "cell_type": "code",
   "execution_count": 23,
   "metadata": {},
   "outputs": [
    {
     "data": {
      "text/html": [
       "<div>\n",
       "<style scoped>\n",
       "    .dataframe tbody tr th:only-of-type {\n",
       "        vertical-align: middle;\n",
       "    }\n",
       "\n",
       "    .dataframe tbody tr th {\n",
       "        vertical-align: top;\n",
       "    }\n",
       "\n",
       "    .dataframe thead th {\n",
       "        text-align: right;\n",
       "    }\n",
       "</style>\n",
       "<table border=\"1\" class=\"dataframe\">\n",
       "  <thead>\n",
       "    <tr style=\"text-align: right;\">\n",
       "      <th></th>\n",
       "      <th>movieId</th>\n",
       "      <th>title</th>\n",
       "      <th>genres</th>\n",
       "    </tr>\n",
       "  </thead>\n",
       "  <tbody>\n",
       "    <tr>\n",
       "      <th>0</th>\n",
       "      <td>1</td>\n",
       "      <td>Toy Story (1995)</td>\n",
       "      <td>Adventure Animation Children Comedy Fantasy</td>\n",
       "    </tr>\n",
       "    <tr>\n",
       "      <th>1</th>\n",
       "      <td>2</td>\n",
       "      <td>Jumanji (1995)</td>\n",
       "      <td>Adventure Children Fantasy</td>\n",
       "    </tr>\n",
       "    <tr>\n",
       "      <th>2</th>\n",
       "      <td>3</td>\n",
       "      <td>Grumpier Old Men (1995)</td>\n",
       "      <td>Comedy Romance</td>\n",
       "    </tr>\n",
       "    <tr>\n",
       "      <th>3</th>\n",
       "      <td>4</td>\n",
       "      <td>Waiting to Exhale (1995)</td>\n",
       "      <td>Comedy Drama Romance</td>\n",
       "    </tr>\n",
       "    <tr>\n",
       "      <th>4</th>\n",
       "      <td>5</td>\n",
       "      <td>Father of the Bride Part II (1995)</td>\n",
       "      <td>Comedy</td>\n",
       "    </tr>\n",
       "  </tbody>\n",
       "</table>\n",
       "</div>"
      ],
      "text/plain": [
       "   movieId                               title  \\\n",
       "0        1                    Toy Story (1995)   \n",
       "1        2                      Jumanji (1995)   \n",
       "2        3             Grumpier Old Men (1995)   \n",
       "3        4            Waiting to Exhale (1995)   \n",
       "4        5  Father of the Bride Part II (1995)   \n",
       "\n",
       "                                        genres  \n",
       "0  Adventure Animation Children Comedy Fantasy  \n",
       "1                   Adventure Children Fantasy  \n",
       "2                               Comedy Romance  \n",
       "3                         Comedy Drama Romance  \n",
       "4                                       Comedy  "
      ]
     },
     "execution_count": 23,
     "metadata": {},
     "output_type": "execute_result"
    }
   ],
   "source": [
    "movies_df_model = movies_df.copy() \n",
    "movies_df_model['genres'] = movies_df_model['genres'].str.replace(\"|\" , \" \")\n",
    "movies_df_model['genres'] = movies_df_model['genres'].str.replace(\"(no genres listed)\" , \"nogenre\")\n",
    "movies_df_model.head()"
   ]
  },
  {
   "cell_type": "code",
   "execution_count": 24,
   "metadata": {},
   "outputs": [
    {
     "data": {
      "text/plain": [
       "array(['adventure', 'animation', 'children', 'comedy', 'fantasy',\n",
       "       'romance', 'drama', 'action', 'crime', 'thriller', 'horror',\n",
       "       'mystery', 'sci-fi', 'war', 'musical', 'documentary', 'imax',\n",
       "       'western', 'film-noir', 'nogenre'], dtype=object)"
      ]
     },
     "execution_count": 24,
     "metadata": {},
     "output_type": "execute_result"
    }
   ],
   "source": [
    "movies_df['genres'] = movies_df['genres'].str.replace(\"(no genres listed)\" , \"nogenre\")\n",
    "movies_df['genres'] = movies_df['genres'].str.split(\"|\")\n",
    "movies_df = movies_df.explode(column='genres')\n",
    "genre_vocabulary = np.array(movies_df['genres'].str.lower().unique())\n",
    "genre_vocabulary"
   ]
  },
  {
   "cell_type": "code",
   "execution_count": 25,
   "metadata": {},
   "outputs": [
    {
     "data": {
      "text/html": [
       "<div>\n",
       "<style scoped>\n",
       "    .dataframe tbody tr th:only-of-type {\n",
       "        vertical-align: middle;\n",
       "    }\n",
       "\n",
       "    .dataframe tbody tr th {\n",
       "        vertical-align: top;\n",
       "    }\n",
       "\n",
       "    .dataframe thead th {\n",
       "        text-align: right;\n",
       "    }\n",
       "</style>\n",
       "<table border=\"1\" class=\"dataframe\">\n",
       "  <thead>\n",
       "    <tr style=\"text-align: right;\">\n",
       "      <th></th>\n",
       "      <th>userId</th>\n",
       "      <th>movieId</th>\n",
       "      <th>rating</th>\n",
       "      <th>timestamp</th>\n",
       "      <th>imdbId</th>\n",
       "      <th>tmdbId</th>\n",
       "      <th>overview</th>\n",
       "      <th>cast</th>\n",
       "      <th>id</th>\n",
       "      <th>popularity</th>\n",
       "      <th>runtime</th>\n",
       "      <th>vote_average</th>\n",
       "      <th>title</th>\n",
       "      <th>genres</th>\n",
       "    </tr>\n",
       "  </thead>\n",
       "  <tbody>\n",
       "    <tr>\n",
       "      <th>0</th>\n",
       "      <td>1</td>\n",
       "      <td>1</td>\n",
       "      <td>4.0</td>\n",
       "      <td>964982703</td>\n",
       "      <td>114709</td>\n",
       "      <td>862</td>\n",
       "      <td>Led by Woody, Andy's toys live happily in his ...</td>\n",
       "      <td>Tom Hanks|Tim Allen|Don Rickles|Jim Varney|Wal...</td>\n",
       "      <td>862.0</td>\n",
       "      <td>100.954</td>\n",
       "      <td>81.0</td>\n",
       "      <td>7.970</td>\n",
       "      <td>Toy Story (1995)</td>\n",
       "      <td>Adventure Animation Children Comedy Fantasy</td>\n",
       "    </tr>\n",
       "    <tr>\n",
       "      <th>1</th>\n",
       "      <td>1</td>\n",
       "      <td>3</td>\n",
       "      <td>4.0</td>\n",
       "      <td>964981247</td>\n",
       "      <td>113228</td>\n",
       "      <td>15602</td>\n",
       "      <td>A family wedding reignites the ancient feud be...</td>\n",
       "      <td>Walter Matthau|Jack Lemmon|Ann-Margret|Sophia ...</td>\n",
       "      <td>15602.0</td>\n",
       "      <td>12.686</td>\n",
       "      <td>101.0</td>\n",
       "      <td>6.494</td>\n",
       "      <td>Grumpier Old Men (1995)</td>\n",
       "      <td>Comedy Romance</td>\n",
       "    </tr>\n",
       "    <tr>\n",
       "      <th>2</th>\n",
       "      <td>1</td>\n",
       "      <td>6</td>\n",
       "      <td>4.0</td>\n",
       "      <td>964982224</td>\n",
       "      <td>113277</td>\n",
       "      <td>949</td>\n",
       "      <td>Obsessive master thief Neil McCauley leads a t...</td>\n",
       "      <td>Al Pacino|Robert De Niro|Val Kilmer|Jon Voight...</td>\n",
       "      <td>949.0</td>\n",
       "      <td>58.478</td>\n",
       "      <td>170.0</td>\n",
       "      <td>7.908</td>\n",
       "      <td>Heat (1995)</td>\n",
       "      <td>Action Crime Thriller</td>\n",
       "    </tr>\n",
       "    <tr>\n",
       "      <th>3</th>\n",
       "      <td>1</td>\n",
       "      <td>47</td>\n",
       "      <td>5.0</td>\n",
       "      <td>964983815</td>\n",
       "      <td>114369</td>\n",
       "      <td>807</td>\n",
       "      <td>Two homicide detectives are on a desperate hun...</td>\n",
       "      <td>Morgan Freeman|Brad Pitt|Gwyneth Paltrow|Andre...</td>\n",
       "      <td>807.0</td>\n",
       "      <td>60.472</td>\n",
       "      <td>127.0</td>\n",
       "      <td>8.369</td>\n",
       "      <td>Seven (a.k.a. Se7en) (1995)</td>\n",
       "      <td>Mystery Thriller</td>\n",
       "    </tr>\n",
       "    <tr>\n",
       "      <th>4</th>\n",
       "      <td>1</td>\n",
       "      <td>50</td>\n",
       "      <td>5.0</td>\n",
       "      <td>964982931</td>\n",
       "      <td>114814</td>\n",
       "      <td>629</td>\n",
       "      <td>Held in an L.A. interrogation room, Verbal Kin...</td>\n",
       "      <td>Gabriel Byrne|Kevin Spacey|Stephen Baldwin|Kev...</td>\n",
       "      <td>629.0</td>\n",
       "      <td>39.571</td>\n",
       "      <td>106.0</td>\n",
       "      <td>8.193</td>\n",
       "      <td>Usual Suspects, The (1995)</td>\n",
       "      <td>Crime Mystery Thriller</td>\n",
       "    </tr>\n",
       "  </tbody>\n",
       "</table>\n",
       "</div>"
      ],
      "text/plain": [
       "   userId  movieId  rating  timestamp  imdbId  tmdbId  \\\n",
       "0       1        1     4.0  964982703  114709     862   \n",
       "1       1        3     4.0  964981247  113228   15602   \n",
       "2       1        6     4.0  964982224  113277     949   \n",
       "3       1       47     5.0  964983815  114369     807   \n",
       "4       1       50     5.0  964982931  114814     629   \n",
       "\n",
       "                                            overview  \\\n",
       "0  Led by Woody, Andy's toys live happily in his ...   \n",
       "1  A family wedding reignites the ancient feud be...   \n",
       "2  Obsessive master thief Neil McCauley leads a t...   \n",
       "3  Two homicide detectives are on a desperate hun...   \n",
       "4  Held in an L.A. interrogation room, Verbal Kin...   \n",
       "\n",
       "                                                cast       id  popularity  \\\n",
       "0  Tom Hanks|Tim Allen|Don Rickles|Jim Varney|Wal...    862.0     100.954   \n",
       "1  Walter Matthau|Jack Lemmon|Ann-Margret|Sophia ...  15602.0      12.686   \n",
       "2  Al Pacino|Robert De Niro|Val Kilmer|Jon Voight...    949.0      58.478   \n",
       "3  Morgan Freeman|Brad Pitt|Gwyneth Paltrow|Andre...    807.0      60.472   \n",
       "4  Gabriel Byrne|Kevin Spacey|Stephen Baldwin|Kev...    629.0      39.571   \n",
       "\n",
       "   runtime  vote_average                        title  \\\n",
       "0     81.0         7.970             Toy Story (1995)   \n",
       "1    101.0         6.494      Grumpier Old Men (1995)   \n",
       "2    170.0         7.908                  Heat (1995)   \n",
       "3    127.0         8.369  Seven (a.k.a. Se7en) (1995)   \n",
       "4    106.0         8.193   Usual Suspects, The (1995)   \n",
       "\n",
       "                                        genres  \n",
       "0  Adventure Animation Children Comedy Fantasy  \n",
       "1                               Comedy Romance  \n",
       "2                        Action Crime Thriller  \n",
       "3                             Mystery Thriller  \n",
       "4                       Crime Mystery Thriller  "
      ]
     },
     "execution_count": 25,
     "metadata": {},
     "output_type": "execute_result"
    }
   ],
   "source": [
    "movies_and_ratings = ratings_df.merge(movies_df_model[['movieId','title','genres']].copy() , how='left' , on='movieId')\n",
    "movies_and_ratings.head()"
   ]
  },
  {
   "cell_type": "code",
   "execution_count": 26,
   "metadata": {},
   "outputs": [
    {
     "data": {
      "text/plain": [
       "userId            int64\n",
       "movieId           int64\n",
       "rating          float64\n",
       "timestamp         int64\n",
       "imdbId            int64\n",
       "tmdbId            int64\n",
       "overview         object\n",
       "cast             object\n",
       "id              float64\n",
       "popularity      float64\n",
       "runtime         float64\n",
       "vote_average    float64\n",
       "title            object\n",
       "genres           object\n",
       "dtype: object"
      ]
     },
     "execution_count": 26,
     "metadata": {},
     "output_type": "execute_result"
    }
   ],
   "source": [
    "movies_and_ratings.dtypes"
   ]
  },
  {
   "cell_type": "code",
   "execution_count": 27,
   "metadata": {},
   "outputs": [
    {
     "data": {
      "text/plain": [
       "userId           object\n",
       "movieId           int64\n",
       "rating          float64\n",
       "timestamp         int64\n",
       "imdbId            int64\n",
       "tmdbId            int64\n",
       "overview         object\n",
       "cast             object\n",
       "id              float64\n",
       "popularity      float64\n",
       "runtime         float64\n",
       "vote_average    float64\n",
       "title            object\n",
       "genres           object\n",
       "dtype: object"
      ]
     },
     "execution_count": 27,
     "metadata": {},
     "output_type": "execute_result"
    }
   ],
   "source": [
    "movies_and_ratings['userId'] = movies_and_ratings['userId'].astype('str')\n",
    "movies_and_ratings.dtypes"
   ]
  },
  {
   "cell_type": "code",
   "execution_count": 28,
   "metadata": {},
   "outputs": [],
   "source": [
    "movies_and_ratings_dict = {name: np.array(value) \n",
    "                         for name, value in movies_and_ratings.items()}"
   ]
  },
  {
   "cell_type": "markdown",
   "metadata": {},
   "source": [
    "## Create dataset as required by TensorFlow"
   ]
  },
  {
   "cell_type": "code",
   "execution_count": 29,
   "metadata": {},
   "outputs": [],
   "source": [
    "import itertools\n",
    "\n",
    "def slices(features):\n",
    "  for i in itertools.count():\n",
    "    # For each feature take index `i`\n",
    "    example = {name:values[i] for name, values in features.items()}\n",
    "    yield example"
   ]
  },
  {
   "cell_type": "code",
   "execution_count": 30,
   "metadata": {},
   "outputs": [],
   "source": [
    "features_ds = tf.data.Dataset.from_tensor_slices(movies_and_ratings_dict)"
   ]
  },
  {
   "cell_type": "code",
   "execution_count": 31,
   "metadata": {},
   "outputs": [],
   "source": [
    "# import tensorflow_datasets as tfds\n",
    "# ratings = tfds.load(\"movielens/100k-ratings\", split=\"train\")"
   ]
  },
  {
   "cell_type": "code",
   "execution_count": 32,
   "metadata": {},
   "outputs": [],
   "source": [
    "ratings_tf = features_ds.map(lambda x: {\n",
    "    \"movie_title\": x[\"title\"],\n",
    "    \"user_id\": x[\"userId\"],\n",
    "    \"user_rating\": x[\"rating\"],\n",
    "    \"movie_genre\":x[\"genres\"],\n",
    "    \"movie_popularity\":x[\"popularity\"],\n",
    "    \"movie_runtime\":x[\"runtime\"],\n",
    "    \"movie_vote_average\":x[\"vote_average\"],\n",
    "})\n"
   ]
  },
  {
   "cell_type": "code",
   "execution_count": 33,
   "metadata": {},
   "outputs": [
    {
     "data": {
      "text/plain": [
       "100508"
      ]
     },
     "execution_count": 33,
     "metadata": {},
     "output_type": "execute_result"
    }
   ],
   "source": [
    "len(ratings_tf)"
   ]
  },
  {
   "cell_type": "markdown",
   "metadata": {},
   "source": [
    "## Divide into test and train"
   ]
  },
  {
   "cell_type": "code",
   "execution_count": 34,
   "metadata": {},
   "outputs": [],
   "source": [
    "tf.random.set_seed(42)\n",
    "shuffled = ratings_tf.shuffle(100508, seed=42, reshuffle_each_iteration=False)\n",
    "\n",
    "train = shuffled.take(90_000)\n",
    "test = shuffled.skip(90_000).take(10_508)"
   ]
  },
  {
   "cell_type": "code",
   "execution_count": 35,
   "metadata": {},
   "outputs": [],
   "source": [
    "movie_titles = ratings_tf.batch(1_000_000).map(lambda x: x[\"movie_title\"])\n",
    "user_ids = ratings_tf.batch(1_000_000).map(lambda x: x[\"user_id\"])\n",
    "movie_genres = ratings_tf.batch(1_000_000).map(lambda x: x[\"movie_genre\"])\n",
    "movie_popularities = ratings_tf.batch(1_000_000).map(lambda x: x[\"movie_popularity\"])\n",
    "movie_runtimes = ratings_tf.batch(1_000_000).map(lambda x: x[\"movie_runtime\"])\n",
    "movie_vote_averages = ratings_tf.batch(1_000_000).map(lambda x: x[\"movie_vote_average\"])\n",
    "\n",
    "unique_movie_titles = np.unique(np.concatenate(list(movie_titles)))\n",
    "unique_user_ids = np.unique(np.concatenate(list(user_ids)))\n",
    "unique_movie_genres = np.unique(np.concatenate(list(movie_genres)))"
   ]
  },
  {
   "cell_type": "code",
   "execution_count": 36,
   "metadata": {},
   "outputs": [],
   "source": [
    "overview_vocab = np.array(movies_and_ratings['overview'])\n",
    "cast_vocab = np.array(movies_and_ratings['cast'])"
   ]
  },
  {
   "cell_type": "markdown",
   "metadata": {},
   "source": [
    "## Define Model Architecture"
   ]
  },
  {
   "cell_type": "code",
   "execution_count": 37,
   "metadata": {},
   "outputs": [],
   "source": [
    "class RankingModel(tf.keras.Model):\n",
    "\n",
    "  def __init__(self):\n",
    "    super().__init__()\n",
    "    embedding_dimension = 32\n",
    "    max_tokens = 10_000\n",
    "    \n",
    "    # Compute embeddings for users.\n",
    "    self.user_embeddings = tf.keras.Sequential([\n",
    "      tf.keras.layers.StringLookup(\n",
    "        vocabulary=unique_user_ids, mask_token=None),\n",
    "      tf.keras.layers.Embedding(len(unique_user_ids) + 1, embedding_dimension)\n",
    "    ])\n",
    "\n",
    "    # Compute embeddings for movies.\n",
    "    self.movie_embeddings = tf.keras.Sequential([\n",
    "      tf.keras.layers.StringLookup(\n",
    "        vocabulary=unique_movie_titles, mask_token=None),\n",
    "      tf.keras.layers.Embedding(len(unique_movie_titles) + 1, embedding_dimension)\n",
    "    ])\n",
    "    \n",
    "    # Genre vector\n",
    "    self.genre_vectorizer = tf.keras.layers.TextVectorization(\n",
    "        max_tokens=max_tokens,\n",
    "        standardize='lower',\n",
    "        vocabulary=genre_vocabulary)\n",
    "\n",
    "    self.genre_embedding = tf.keras.Sequential([\n",
    "      self.genre_vectorizer,\n",
    "      tf.keras.layers.Embedding(max_tokens, 8, mask_zero=True),\n",
    "      tf.keras.layers.GlobalAveragePooling1D()\n",
    "    ])\n",
    "\n",
    "    \n",
    "\n",
    "    # Compute predictions.\n",
    "    self.ratings = tf.keras.Sequential([\n",
    "      # Learn multiple dense layers.\n",
    "      tf.keras.layers.BatchNormalization(),\n",
    "      tf.keras.layers.Dense(128, activation=\"relu\"),\n",
    "      tf.keras.layers.Dense(64, activation=\"relu\"),\n",
    "      # tf.keras.layers.Dense(32, activation=\"relu\"),\n",
    "      # tf.keras.layers.Dense(16, activation=\"relu\"),\n",
    "      # Make rating predictions in the final layer.\n",
    "      tf.keras.layers.Dense(1)\n",
    "  ])\n",
    "    \n",
    "\n",
    "\n",
    "  def call(self, inputs):\n",
    "\n",
    "    user_id, movie_title, movie_genre, movie_popularity, movie_runtime, movie_vote_average  = inputs\n",
    "\n",
    "    # user_id, movie_title, movie_genre = inputs\n",
    "\n",
    "    user_embedding = self.user_embeddings(user_id)\n",
    "    movie_embedding = self.movie_embeddings(movie_title)\n",
    "    genre_embedding = self.genre_embedding(movie_genre)\n",
    "    movie_popularity_embed = tf.reshape(movie_popularity , [-1,1])\n",
    "    movie_runtime_embed = tf.reshape(movie_runtime , [-1,1])\n",
    "    movie_vote_average_embed = tf.reshape(movie_vote_average , [-1,1])\n",
    "\n",
    "    return self.ratings(tf.concat([user_embedding, \n",
    "                                   movie_embedding,\n",
    "                                   genre_embedding,\n",
    "                                   movie_popularity_embed,\n",
    "                                   movie_runtime_embed,\n",
    "                                   movie_vote_average_embed],\n",
    "                                   \n",
    "                                   axis=1))"
   ]
  },
  {
   "cell_type": "code",
   "execution_count": 38,
   "metadata": {},
   "outputs": [],
   "source": [
    "import tensorflow_recommenders as tfrs\n",
    "task = tfrs.tasks.Ranking(\n",
    "  loss = tf.keras.losses.MeanSquaredError(),\n",
    "  metrics=[tf.keras.metrics.RootMeanSquaredError()]\n",
    ")"
   ]
  },
  {
   "cell_type": "code",
   "execution_count": 39,
   "metadata": {},
   "outputs": [],
   "source": [
    "from typing import Dict, Text\n",
    "class MovielensModel(tfrs.models.Model):\n",
    "\n",
    "  def __init__(self):\n",
    "    super().__init__()\n",
    "    self.ranking_model: tf.keras.Model = RankingModel()\n",
    "    self.task: tf.keras.layers.Layer = tfrs.tasks.Ranking(\n",
    "      loss = tf.keras.losses.MeanSquaredError(),\n",
    "      metrics=[tf.keras.metrics.RootMeanSquaredError()]\n",
    "    )\n",
    "\n",
    "  def call(self, features: Dict[str, tf.Tensor]) -> tf.Tensor:\n",
    "    return self.ranking_model(\n",
    "        (features[\"user_id\"], \n",
    "         features[\"movie_title\"], \n",
    "         features[\"movie_genre\"],\n",
    "         features[\"movie_popularity\"],\n",
    "         features[\"movie_runtime\"],\n",
    "         features[\"movie_vote_average\"]\n",
    "         ))\n",
    "\n",
    "  def compute_loss(self, features: Dict[Text, tf.Tensor], training=False) -> tf.Tensor:\n",
    "    labels = features.pop(\"user_rating\")\n",
    "\n",
    "    rating_predictions = self(features)\n",
    "\n",
    "    # The task computes the loss and the metrics.\n",
    "    return self.task(labels=labels, predictions=rating_predictions)"
   ]
  },
  {
   "cell_type": "code",
   "execution_count": 40,
   "metadata": {},
   "outputs": [],
   "source": [
    "from matplotlib import pyplot as plt\n",
    "from tensorflow import keras\n",
    "import numpy as np \n",
    "from IPython.display import clear_output\n",
    "class PlotLearning(keras.callbacks.Callback):\n",
    "    \"\"\"\n",
    "    Callback to plot the learning curves of the model during training.\n",
    "    \"\"\"\n",
    "    def on_train_begin(self, logs={}):\n",
    "        self.metrics = {}\n",
    "        for metric in logs:\n",
    "            self.metrics[metric] = []\n",
    "            \n",
    "\n",
    "    def on_epoch_end(self, epoch, logs={}):\n",
    "        # Storing metrics\n",
    "        for metric in logs:\n",
    "            if metric in self.metrics:\n",
    "                self.metrics[metric].append(logs.get(metric))\n",
    "            else:\n",
    "                self.metrics[metric] = [logs.get(metric)]\n",
    "        \n",
    "        # Plotting\n",
    "        metrics = [x for x in logs if 'val' not in x]\n",
    "        \n",
    "        f, axs = plt.subplots(1, len(metrics), figsize=(15,5))\n",
    "        clear_output(wait=True)\n",
    "\n",
    "        for i, metric in enumerate(metrics):\n",
    "            axs[i].plot(range(1, epoch + 2), \n",
    "                        self.metrics[metric], \n",
    "                        label=metric)\n",
    "            if logs['val_' + metric]:\n",
    "                axs[i].plot(range(1, epoch + 2), \n",
    "                            self.metrics['val_' + metric], \n",
    "                            label='val_' + metric)\n",
    "                \n",
    "            axs[i].legend()\n",
    "            axs[i].grid()\n",
    "\n",
    "        plt.tight_layout()\n",
    "        plt.show()"
   ]
  },
  {
   "cell_type": "code",
   "execution_count": 41,
   "metadata": {},
   "outputs": [],
   "source": [
    "model = MovielensModel()\n",
    "model.compile(optimizer=tf.keras.optimizers.legacy.Adagrad(learning_rate=0.1))\n",
    "\n",
    "cached_train = train.shuffle(100508).batch(8192).cache()\n",
    "cached_test = test.batch(4096).cache()"
   ]
  },
  {
   "cell_type": "code",
   "execution_count": 42,
   "metadata": {},
   "outputs": [
    {
     "data": {
      "image/png": "[encoded data removed]",
      "text/plain": [
       "<Figure size 1500x500 with 4 Axes>"
      ]
     },
     "metadata": {},
     "output_type": "display_data"
    },
    {
     "name": "stdout",
     "output_type": "stream",
     "text": [
      "11/11 [==============================] - 1s 59ms/step - root_mean_squared_error: 0.8118 - loss: 0.6586 - regularization_loss: 0.0000e+00 - total_loss: 0.6586 - val_root_mean_squared_error: 0.8521 - val_loss: 0.7072 - val_regularization_loss: 0.0000e+00 - val_total_loss: 0.7072\n"
     ]
    },
    {
     "data": {
      "text/plain": [
       "<keras.src.callbacks.History at 0x172726880>"
      ]
     },
     "execution_count": 42,
     "metadata": {},
     "output_type": "execute_result"
    }
   ],
   "source": [
    "# import datetime  \n",
    "# log_dir = \"./logs/fit/\" + datetime.datetime.now().strftime(\"%Y%m%d-%H%M%S\")\n",
    "# tensorboard_callback = tf.keras.callbacks.TensorBoard(log_dir=log_dir, histogram_freq=1)\n",
    "\n",
    "callbacks_list = [PlotLearning()]\n",
    "\n",
    "model.fit(cached_train,validation_data=cached_test, epochs=200 , callbacks=callbacks_list)"
   ]
  },
  {
   "cell_type": "code",
   "execution_count": 43,
   "metadata": {},
   "outputs": [
    {
     "name": "stdout",
     "output_type": "stream",
     "text": [
      "3/3 [==============================] - 0s 9ms/step - root_mean_squared_error: 0.8521 - loss: 0.7193 - regularization_loss: 0.0000e+00 - total_loss: 0.7193\n"
     ]
    },
    {
     "data": {
      "text/plain": [
       "{'root_mean_squared_error': 0.8520708680152893,\n",
       " 'loss': 0.7072171568870544,\n",
       " 'regularization_loss': 0,\n",
       " 'total_loss': 0.7072171568870544}"
      ]
     },
     "execution_count": 43,
     "metadata": {},
     "output_type": "execute_result"
    }
   ],
   "source": [
    "model.evaluate(cached_test, return_dict=True)"
   ]
  },
  {
   "cell_type": "code",
   "execution_count": null,
   "metadata": {},
   "outputs": [],
   "source": []
  }
 ],
 "metadata": {
  "kernelspec": {
   "display_name": "adobe_case_study",
   "language": "python",
   "name": "python3"
  },
  "language_info": {
   "codemirror_mode": {
    "name": "ipython",
    "version": 3
   },
   "file_extension": ".py",
   "mimetype": "text/x-python",
   "name": "python",
   "nbconvert_exporter": "python",
   "pygments_lexer": "ipython3",
   "version": "3.9.12"
  }
 },
 "nbformat": 4,
 "nbformat_minor": 2
}
